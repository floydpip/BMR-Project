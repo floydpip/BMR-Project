{
 "cells": [
  {
   "cell_type": "code",
   "execution_count": 3,
   "id": "cc383949-3267-466a-a9a8-fe67c0936db8",
   "metadata": {},
   "outputs": [
    {
     "name": "stdout",
     "output_type": "stream",
     "text": [
      "Name: opencv-python\n",
      "Version: 4.8.1.78\n",
      "Summary: Wrapper package for OpenCV python bindings.\n",
      "Home-page: https://github.com/opencv/opencv-python\n",
      "Author: \n",
      "Author-email: \n",
      "License: Apache 2.0\n",
      "Location: C:\\Software\\Anaconda\\Lib\\site-packages\n",
      "Requires: numpy, numpy, numpy, numpy, numpy\n",
      "Required-by: ultralytics\n"
     ]
    }
   ],
   "source": [
    "!pip show opencv-python"
   ]
  },
  {
   "cell_type": "code",
   "execution_count": 1,
   "id": "a5e242f7-4534-445b-9fc9-c0bf8fff252a",
   "metadata": {
    "tags": []
   },
   "outputs": [],
   "source": [
    "import numpy as np\n",
    "import cv2\n",
    "import cv2.aruco as aruco\n",
    "\n",
    "\n"
   ]
  },
  {
   "cell_type": "markdown",
   "id": "922ea503-1881-4043-a8ae-77ebd1e24be0",
   "metadata": {},
   "source": [
    "## Marker corners detected in real time"
   ]
  },
  {
   "cell_type": "markdown",
   "id": "34d3e3fb-9790-4e50-9499-f4b76c25f0cc",
   "metadata": {},
   "source": [
    "Code referenced from:\n",
    "https://docs.opencv.org/4.8.0/d5/dae/tutorial_aruco_detection.html"
   ]
  },
  {
   "cell_type": "code",
   "execution_count": 2,
   "id": "5820cb5d-2fd6-4350-b7c9-60a138093391",
   "metadata": {
    "tags": []
   },
   "outputs": [],
   "source": [
    "cap = cv2.VideoCapture(0)\n",
    "\n",
    "while True:\n",
    "    ret, frame = cap.read()\n",
    "    gray = cv2.cvtColor(frame, cv2.COLOR_BGR2GRAY)  # Change grayscale\n",
    "    aruco_dict = aruco.getPredefinedDictionary(cv2.aruco.DICT_5X5_50)  # Use 5x5 dictionary to find markers\n",
    "    parameters = aruco.DetectorParameters()  \n",
    "    detector = aruco.ArucoDetector(aruco_dict, parameters)\n",
    "\n",
    "    corners, ids, rejected_img_points = detector.detectMarkers(gray)\n",
    "       \n",
    "    # If aruco markers are detected:\n",
    "    if np.all(ids is not None):  \n",
    "        for i in range(0, len(ids)):  \n",
    "                 aruco.drawDetectedMarkers(frame, corners) \n",
    "                    \n",
    "                    \n",
    "    cv2.imshow('frame', frame)\n",
    "        \n",
    "    key = cv2.waitKey(3) & 0xFF\n",
    "    if key == ord('q'):  \n",
    "        break\n",
    "    \n",
    "cap.release()\n",
    "cv2.destroyAllWindows()\n",
    "\n"
   ]
  },
  {
   "cell_type": "markdown",
   "id": "8e9ffc6b-395d-41b5-9271-abf0b678c016",
   "metadata": {},
   "source": [
    "## Getting marker coordinates"
   ]
  },
  {
   "cell_type": "markdown",
   "id": "f326e769-368f-42e9-9519-057f72de4472",
   "metadata": {},
   "source": [
    "Thymio:    index 0\n",
    "Obstacles: indicies 1-6\n",
    "Goal:      index 7"
   ]
  },
  {
   "cell_type": "code",
   "execution_count": 3,
   "id": "b4ce4f55-00b5-40be-ab95-93d67691bc8c",
   "metadata": {
    "tags": []
   },
   "outputs": [],
   "source": [
    "def current_photo():\n",
    "    cap = cv2.VideoCapture(0)\n",
    "    ret, frame = cap.read()\n",
    "    cv2.imwrite('images/current.jpg', frame)\n",
    "    cap.release()"
   ]
  },
  {
   "cell_type": "code",
   "execution_count": 4,
   "id": "0d864f0e-2b5c-4d19-bdc1-3f7a3e94041d",
   "metadata": {
    "tags": []
   },
   "outputs": [],
   "source": [
    "current_photo()"
   ]
  },
  {
   "cell_type": "markdown",
   "id": "063d4548-6ff3-4927-bb9b-4f712475e46f",
   "metadata": {},
   "source": [
    "The following functions below retrieve the first photo, and utilize it to locate the coordinates of the markers.\n",
    "Aruco uses X right, Y far, Z up, if the marker is lying flat on a table. Origin is in the center of the marker. The top left corner of the marker is considered the \"first\" corner."
   ]
  },
  {
   "cell_type": "code",
   "execution_count": 36,
   "id": "ce788943-f6c1-47fd-b1d1-6e3b31f2c83e",
   "metadata": {
    "tags": []
   },
   "outputs": [],
   "source": [
    "def get_Thymio():\n",
    "    img_path = 'images/current.jpg'\n",
    "    img = cv2.imread(img_path)\n",
    "    gray = cv2.cvtColor(img, cv2.COLOR_BGR2GRAY)  # Change grayscale\n",
    "    aruco_dict = aruco.getPredefinedDictionary(cv2.aruco.DICT_5X5_50)  # Use 5x5 dictionary to find markers\n",
    "    parameters = aruco.DetectorParameters()  \n",
    "    detector = aruco.ArucoDetector(aruco_dict, parameters)\n",
    "\n",
    "    corners, ids, rejected_img_points = detector.detectMarkers(gray)\n",
    "    \n",
    "    # If aruco markers are detected:\n",
    "    # if np.all(ids is not None):\n",
    "      #  output_image = gray.copy()\n",
    "        #aruco.drawDetectedMarkers(output_image,corners) \n",
    "                    \n",
    "    # Get thymio at idx 0  \n",
    "    idx = np.where(ids == 0)[0][0]\n",
    "    coords = corners[idx]\n",
    "    \n",
    "    return coords, idx\n",
    "    \n"
   ]
  },
  {
   "cell_type": "code",
   "execution_count": 37,
   "id": "540e0b92-2ea6-47f2-9281-683b14a9e8c8",
   "metadata": {
    "tags": []
   },
   "outputs": [],
   "source": [
    "corners, ids = get_Thymio()\n"
   ]
  },
  {
   "cell_type": "code",
   "execution_count": 38,
   "id": "e808cf2d-3d3b-4f8d-b711-626ab6390e1d",
   "metadata": {
    "tags": []
   },
   "outputs": [
    {
     "name": "stdout",
     "output_type": "stream",
     "text": [
      "[[[170. 249.]\n",
      "  [214. 249.]\n",
      "  [210. 287.]\n",
      "  [166. 289.]]]\n",
      "6\n"
     ]
    }
   ],
   "source": [
    "print(corners)\n",
    "print(ids)"
   ]
  },
  {
   "cell_type": "code",
   "execution_count": 29,
   "id": "03ba1158-6259-4e4e-9911-b81378489eec",
   "metadata": {
    "tags": []
   },
   "outputs": [],
   "source": []
  },
  {
   "cell_type": "code",
   "execution_count": 61,
   "id": "ff110743-3f16-4f7a-8ff5-a360fe405a6e",
   "metadata": {
    "tags": []
   },
   "outputs": [],
   "source": [
    "def get_obst():\n",
    "    img_path = 'images/current.jpg'\n",
    "    img = cv2.imread(img_path)\n",
    "    gray = cv2.cvtColor(img, cv2.COLOR_BGR2GRAY)  # Change grayscale\n",
    "    aruco_dict = aruco.getPredefinedDictionary(cv2.aruco.DICT_5X5_50)  # Use 5x5 dictionary to find markers\n",
    "    parameters = aruco.DetectorParameters()  \n",
    "    detector = aruco.ArucoDetector(aruco_dict, parameters)\n",
    "\n",
    "    corners, ids, rejected_img_points = detector.detectMarkers(gray)\n",
    "    \n",
    "    # If aruco markers are detected:\n",
    "    # if np.all(ids is not None):\n",
    "      #  output_image = gray.copy()\n",
    "        #aruco.drawDetectedMarkers(output_image,corners) \n",
    "                    \n",
    "    # Get obstacles at idx that is not Thymio or goal \n",
    "    idx = np.where((ids != 0) & (ids != 7))[0]\n",
    "\n",
    "\n",
    "    coords = [corners[i].tolist() for i in idx]\n",
    "\n",
    "        \n",
    "    return coords, idx"
   ]
  },
  {
   "cell_type": "code",
   "execution_count": 62,
   "id": "69f14b41-5476-4731-9d07-f578df36af98",
   "metadata": {
    "tags": []
   },
   "outputs": [
    {
     "name": "stdout",
     "output_type": "stream",
     "text": [
      "[[[[161.0, 318.0], [207.0, 318.0], [201.0, 362.0], [154.0, 362.0]]], [[[464.0, 238.0], [509.0, 238.0], [514.0, 282.0], [468.0, 281.0]]], [[[191.0, 397.0], [241.0, 397.0], [239.0, 449.0], [189.0, 448.0]]], [[[470.0, 314.0], [517.0, 314.0], [522.0, 362.0], [474.0, 362.0]]], [[[315.0, 313.0], [362.0, 314.0], [362.0, 361.0], [314.0, 360.0]]], [[[315.0, 244.0], [359.0, 241.0], [361.0, 281.0], [314.0, 282.0]]]]\n",
      "[0 1 3 4 5 7]\n"
     ]
    }
   ],
   "source": [
    "corners, ids = get_obst()\n",
    "print(corners)\n",
    "print(ids)"
   ]
  },
  {
   "cell_type": "code",
   "execution_count": 39,
   "id": "c2c4a7c0-0e8f-4927-87a0-c91c4c1ec12e",
   "metadata": {},
   "outputs": [],
   "source": [
    "def get_goal():\n",
    "    img_path = 'images/current.jpg'\n",
    "    img = cv2.imread(img_path)\n",
    "    gray = cv2.cvtColor(img, cv2.COLOR_BGR2GRAY)  # Change grayscale\n",
    "    aruco_dict = aruco.getPredefinedDictionary(cv2.aruco.DICT_5X5_50)  # Use 5x5 dictionary to find markers\n",
    "    parameters = aruco.DetectorParameters()  \n",
    "    detector = aruco.ArucoDetector(aruco_dict, parameters)\n",
    "\n",
    "    corners, ids, rejected_img_points = detector.detectMarkers(gray)\n",
    "    \n",
    "    # If aruco markers are detected:\n",
    "    # if np.all(ids is not None):\n",
    "      #  output_image = gray.copy()\n",
    "        #aruco.drawDetectedMarkers(output_image,corners) \n",
    "                    \n",
    "    # Get goal at idx 7  \n",
    "    idx = np.where(ids == 7)[0][0]\n",
    "    coords = corners[idx]\n",
    "    \n",
    "    return coords, idx"
   ]
  },
  {
   "cell_type": "code",
   "execution_count": 40,
   "id": "ca4bf94a-8ec6-48e9-bbd5-8aefa0e94565",
   "metadata": {
    "tags": []
   },
   "outputs": [
    {
     "name": "stdout",
     "output_type": "stream",
     "text": [
      "[[[437. 397.]\n",
      "  [485. 397.]\n",
      "  [489. 448.]\n",
      "  [439. 449.]]]\n",
      "2\n"
     ]
    }
   ],
   "source": [
    "corners, ids = get_goal()\n",
    "print(corners)\n",
    "print(ids)"
   ]
  },
  {
   "cell_type": "markdown",
   "id": "ae8777e5-b6d3-4302-a4a0-11a6edcc533d",
   "metadata": {},
   "source": [
    "## Atempt pose estimation"
   ]
  },
  {
   "cell_type": "markdown",
   "id": "66b22a01-4da6-4b3c-8735-7d8110066c9d",
   "metadata": {},
   "source": [
    "### 1. First need to calibrate camera\n",
    "See calibrateCamera()\n",
    "https://docs.opencv.org/4.8.0/d9/d0c/group__calib3d.html#ga3207604e4b1a1758aa66acb6ed5aa65d"
   ]
  },
  {
   "cell_type": "code",
   "execution_count": null,
   "id": "fa4da72d-a11d-43d7-aa02-d6ce34b695f7",
   "metadata": {},
   "outputs": [],
   "source": []
  }
 ],
 "metadata": {
  "kernelspec": {
   "display_name": "Python 3 (ipykernel)",
   "language": "python",
   "name": "python3"
  },
  "language_info": {
   "codemirror_mode": {
    "name": "ipython",
    "version": 3
   },
   "file_extension": ".py",
   "mimetype": "text/x-python",
   "name": "python",
   "nbconvert_exporter": "python",
   "pygments_lexer": "ipython3",
   "version": "3.11.5"
  }
 },
 "nbformat": 4,
 "nbformat_minor": 5
}
