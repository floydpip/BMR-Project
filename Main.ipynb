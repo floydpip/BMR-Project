{
 "cells": [
  {
   "cell_type": "markdown",
   "id": "d3f80b1c",
   "metadata": {
    "tags": []
   },
   "source": [
    "# Imports\n"
   ]
  },
  {
   "cell_type": "code",
   "execution_count": 1,
   "id": "9d0c718f-5917-4819-99a3-ff65decc7385",
   "metadata": {
    "tags": []
   },
   "outputs": [
    {
     "name": "stdout",
     "output_type": "stream",
     "text": [
      "Requirement already satisfied: dijkstar in c:\\users\\miste\\appdata\\local\\programs\\python\\python311\\lib\\site-packages (2.6.0)\n",
      "Requirement already satisfied: six in c:\\users\\miste\\appdata\\local\\programs\\python\\python311\\lib\\site-packages (from dijkstar) (1.16.0)\n"
     ]
    },
    {
     "name": "stderr",
     "output_type": "stream",
     "text": [
      "\n",
      "[notice] A new release of pip is available: 23.2.1 -> 23.3.1\n",
      "[notice] To update, run: python.exe -m pip install --upgrade pip\n"
     ]
    }
   ],
   "source": [
    "!pip install dijkstar"
   ]
  },
  {
   "cell_type": "code",
   "execution_count": 9,
   "id": "4c5ccdbf",
   "metadata": {
    "tags": []
   },
   "outputs": [],
   "source": [
    "import numpy as np\n",
    "# Import opencv for computer vision\n",
    "import cv2 \n",
    "# Import matplotlib to visualize an image\n",
    "from matplotlib import pyplot as plt\n",
    "from __future__ import print_function\n",
    "import sys\n",
    "from random import randint\n",
    "import cv2.aruco as aruco\n",
    "import math\n",
    "from PIL import Image\n",
    "\n",
    "from dijkstar import Graph, find_path\n",
    "from IPython.display import display\n",
    "\n",
    "import networkx as nx\n",
    "import matplotlib.pyplot as plt"
   ]
  },
  {
   "cell_type": "markdown",
   "id": "63eccd2e-c5e6-4071-b4a3-af22cfd8c294",
   "metadata": {
    "tags": []
   },
   "source": [
    "# Computer Vision\n"
   ]
  },
  {
   "cell_type": "markdown",
   "id": "4a5caefb-ea92-47ee-b3d1-cca0b7bd3742",
   "metadata": {},
   "source": [
    "## Past attempts:"
   ]
  },
  {
   "cell_type": "markdown",
   "id": "a5caf6d2-4163-4acd-a552-321c640b5925",
   "metadata": {},
   "source": [
    "Potential solutions:\n",
    "1. Using Tensorflow\n",
    "https://www.youtube.com/watch?v=yqkISICHH-U\n",
    "\n",
    "2. Using MultiTracker OpenCV\n",
    "https://learnopencv.com/multitracker-multiple-object-tracking-using-opencv-c-python/"
   ]
  },
  {
   "cell_type": "markdown",
   "id": "cf612f29-2d0d-40ca-aa47-fbd7f3805bb2",
   "metadata": {
    "tags": []
   },
   "source": [
    "### Using MultiTracker OpenCV\n"
   ]
  },
  {
   "cell_type": "markdown",
   "id": "500c9b0c-e56b-4e5d-a61b-5992536998ac",
   "metadata": {
    "tags": []
   },
   "source": [
    "Start by creating a single object tracker\n",
    "- below doesnt work"
   ]
  },
  {
   "cell_type": "markdown",
   "id": "7a4c0fbf-c8c4-4aa8-adba-a1076a6d4ca6",
   "metadata": {},
   "source": [
    "Read the first frame of livestream\n",
    "* May need to modify"
   ]
  },
  {
   "cell_type": "markdown",
   "id": "ed8ac18f-f09d-4823-a99b-288c82f55aa4",
   "metadata": {},
   "source": [
    "Locate objects in the first frame"
   ]
  },
  {
   "cell_type": "markdown",
   "id": "32d297e7-c7b8-42e1-9a80-d1c535c04651",
   "metadata": {
    "tags": []
   },
   "source": [
    "Check out\n",
    "https://www.youtube.com/watch?v=8ktcGQ-XreQ"
   ]
  },
  {
   "cell_type": "markdown",
   "id": "0cfdb7f4-327c-48e1-8248-0f143f946aa0",
   "metadata": {},
   "source": [
    "Perhaps use YOLOv5:\n",
    "https://blog.paperspace.com/train-yolov5-custom-data/\n",
    "\n",
    "\n",
    "https://blog.roboflow.com/how-to-train-yolov5-on-a-custom-dataset/\n"
   ]
  },
  {
   "cell_type": "markdown",
   "id": "90eb01b0-fe78-4ca6-9075-2a5f99dcde9a",
   "metadata": {},
   "source": [
    "## 1. Setting up Aruco"
   ]
  },
  {
   "cell_type": "markdown",
   "id": "039b53f0-8e51-4980-a3f7-637e99f33074",
   "metadata": {},
   "source": [
    "### Markers detected in real time:\n"
   ]
  },
  {
   "cell_type": "markdown",
   "id": "28abf90a-e51a-4029-8751-7d7958f4d966",
   "metadata": {},
   "source": [
    "Code referenced from:\n",
    "https://docs.opencv.org/4.8.0/d5/dae/tutorial_aruco_detection.html"
   ]
  },
  {
   "cell_type": "code",
   "execution_count": 2,
   "id": "892d0b1b-b9b3-418d-bd10-c9db69a1d85a",
   "metadata": {
    "tags": []
   },
   "outputs": [],
   "source": [
    "import cv2\n",
    "from cv2 import aruco\n",
    "\n",
    "cap = cv2.VideoCapture(1, cv2.CAP_DSHOW)\n",
    "\n",
    "while True:\n",
    "    ret, frame = cap.read()\n",
    "    gray = cv2.cvtColor(frame, cv2.COLOR_BGR2GRAY)\n",
    "\n",
    "    aruco_dict = aruco.getPredefinedDictionary(cv2.aruco.DICT_5X5_50)\n",
    "    parameters = aruco.DetectorParameters()\n",
    "    detector = aruco.ArucoDetector(aruco_dict, parameters)\n",
    "\n",
    "    corners, ids, rejected_img_points = detector.detectMarkers(gray)\n",
    "    # print(\"Corners\", corners)\n",
    "    # # print(\"1 idx\", corners[0])\n",
    "    # print(\"2 idx\", corners[0][0])\n",
    "    # print(\"3 idx\", corners[0][0][1])\n",
    "    # print(\"4 idx\", corners[1][0])\n",
    "\n",
    "\n",
    "    if np.all(ids is not None):\n",
    "        for i in range(0, len(ids)):\n",
    "            #rvec, tvec, _ = aruco.estimatePoseSingleMarkers(corners[i], 0.02, camera_matrix, distortion_coefficients)\n",
    "            aruco.drawDetectedMarkers(frame, corners, ids)\n",
    "            #cv2.drawFrameAxes(frame, camera_matrix, distortion_coefficients, rvec, tvec, 0.02)\n",
    "\n",
    "    cv2.imshow('frame', frame)\n",
    "\n",
    "    key = cv2.waitKey(3) & 0xFF\n",
    "    if key == ord('q'):\n",
    "        break\n",
    "\n",
    "cap.release()\n",
    "cv2.destroyAllWindows()\n"
   ]
  },
  {
   "cell_type": "markdown",
   "id": "390e5b07-6f9b-405f-9707-1482489bdfd6",
   "metadata": {},
   "source": [
    "### Getting marker coordinates\n"
   ]
  },
  {
   "cell_type": "markdown",
   "id": "b80a512f-cce8-47bc-9df0-5eaaea4781d9",
   "metadata": {},
   "source": [
    "Thymio: &nbsp;&nbsp;&nbsp;&nbsp;&nbsp;&nbsp;index 0\n",
    "<br>\n",
    "Obstacles:&nbsp;&nbsp;&nbsp;indicies 1-6\n",
    "<br>\n",
    "Goal:&nbsp;&nbsp;&nbsp;&nbsp;&nbsp;&nbsp;&nbsp;&nbsp;&nbsp;&nbsp;&nbsp;index 7"
   ]
  },
  {
   "cell_type": "code",
   "execution_count": 10,
   "id": "c48c1dfc-bd62-4df5-9ecd-3043c0ea2473",
   "metadata": {
    "tags": []
   },
   "outputs": [],
   "source": [
    "def current_photo():\n",
    "    cap = cv2.VideoCapture(1, cv2.CAP_DSHOW)\n",
    "    ret, frame = cap.read()\n",
    "    cv2.imwrite('images/current.jpg', frame)\n",
    "    cap.release()\n",
    "    \n",
    "    "
   ]
  },
  {
   "cell_type": "markdown",
   "id": "829b9cfd-5fe1-4175-aa48-e18fe1f060ee",
   "metadata": {},
   "source": [
    "The following functions below retrieve the first photo, and utilize it to locate the coordinates of the markers.\n"
   ]
  },
  {
   "cell_type": "code",
   "execution_count": 11,
   "id": "41c70e70-af28-4157-a757-3655dc345c2f",
   "metadata": {
    "tags": []
   },
   "outputs": [],
   "source": [
    "def get_Thymio():\n",
    "    img_path = 'images/current.jpg'\n",
    "    img = cv2.imread(img_path)\n",
    "    gray = cv2.cvtColor(img, cv2.COLOR_BGR2GRAY)  # Change grayscale\n",
    "    aruco_dict = aruco.getPredefinedDictionary(cv2.aruco.DICT_5X5_50)  # Use 5x5 dictionary to find markers\n",
    "    parameters = aruco.DetectorParameters()  \n",
    "    detector = aruco.ArucoDetector(aruco_dict, parameters)\n",
    "\n",
    "    corners, ids, rejected_img_points = detector.detectMarkers(gray)\n",
    " \n",
    "    # Get thymio at idx 0  \n",
    "    idx_back = np.where(ids == 0)[0][0]\n",
    "    idx_fowards = np.where(ids == 1)[0][0]\n",
    "    idx = [idx_back, idx_fowards]\n",
    "    coords = [corners[i].tolist() for i in idx]  \n",
    "    \n",
    "    center = []\n",
    "    for i in coords:\n",
    "        # Get center coordinates to return\n",
    "        x1 = i[0][0][0]\n",
    "        y1 = i[0][0][1]\n",
    "        x2 = i[0][2][0]\n",
    "        y2 = i[0][2][1]\n",
    "\n",
    "        x_center = (x1 + x2) / 2\n",
    "        y_center = (y1 + y2) / 2\n",
    "    \n",
    "        center.append([x_center, y_center])\n",
    "    return center\n",
    "    \n",
    "    \n"
   ]
  },
  {
   "cell_type": "code",
   "execution_count": 12,
   "id": "ef78f556-71b5-4942-a8e6-98398b5e6be4",
   "metadata": {
    "tags": []
   },
   "outputs": [],
   "source": [
    "def get_goal():\n",
    "    img_path = 'images/current.jpg'\n",
    "    img = cv2.imread(img_path)\n",
    "    gray = cv2.cvtColor(img, cv2.COLOR_BGR2GRAY)  # Change grayscale\n",
    "    aruco_dict = aruco.getPredefinedDictionary(cv2.aruco.DICT_5X5_50)  # Use 5x5 dictionary to find markers\n",
    "    parameters = aruco.DetectorParameters()  \n",
    "    detector = aruco.ArucoDetector(aruco_dict, parameters)\n",
    "\n",
    "    corners, ids, rejected_img_points = detector.detectMarkers(gray)\n",
    "    \n",
    "    # If aruco markers are detected:\n",
    "    # if np.all(ids is not None):\n",
    "      #  output_image = gray.copy()\n",
    "        #aruco.drawDetectedMarkers(output_image,corners) \n",
    "                    \n",
    "    # Get goal at idx 7  \n",
    "    idx = np.where(ids == 7)[0][0]\n",
    "    coords = corners[idx]\n",
    "    \n",
    "      \n",
    "    \n",
    "    # Get center coordinates to return\n",
    "    x1 = coords[0][0][0]\n",
    "    y1 = coords[0][0][1]\n",
    "    x2 = coords[0][2][0]\n",
    "    y2 = coords[0][2][1]\n",
    "    \n",
    "    x_center = (x1 + x2) / 2\n",
    "    y_center = (y1 + y2) / 2\n",
    "    \n",
    "    center = [x_center, y_center]\n",
    "    \n",
    "    return center"
   ]
  },
  {
   "cell_type": "code",
   "execution_count": 13,
   "id": "04ccc3d0-1a4d-4cdd-b75d-1fde5e7745f6",
   "metadata": {
    "tags": []
   },
   "outputs": [],
   "source": [
    "def get_obst():\n",
    "    img_path = 'images/current.jpg'\n",
    "    img = cv2.imread(img_path)\n",
    "    gray = cv2.cvtColor(img, cv2.COLOR_BGR2GRAY)  # Change grayscale\n",
    "    aruco_dict = aruco.getPredefinedDictionary(cv2.aruco.DICT_5X5_50)  # Use 5x5 dictionary to find markers\n",
    "    parameters = aruco.DetectorParameters()  \n",
    "    detector = aruco.ArucoDetector(aruco_dict, parameters)\n",
    "\n",
    "    corners, ids, rejected_img_points = detector.detectMarkers(gray)\n",
    "    \n",
    "    # If aruco markers are detected:\n",
    "    # if np.all(ids is not None):\n",
    "      #  output_image = gray.copy()\n",
    "        #aruco.drawDetectedMarkers(output_image,corners) \n",
    "                    \n",
    "    # Get obstacles at idx that is not Thymio or goal \n",
    "    idx = np.where((ids != 0) & (ids != 7) & (ids != 1))[0]\n",
    "    coord = [corners[i].tolist() for i in idx]\n",
    "    print(\"Coord\",coord)\n",
    "    id = ids[idx]\n",
    "    print(\"ID\", id)\n",
    "    \n",
    "    coords_list = []\n",
    "\n",
    "    for i in coord:    \n",
    "        ul_x = i[0][0][0]\n",
    "        ul_y = i[0][0][1]\n",
    "\n",
    "        ur_x = i[0][1][0]\n",
    "        ur_y = i[0][1][1]\n",
    "\n",
    "        br_x = i[0][2][0]\n",
    "        br_y = i[0][2][1]\n",
    "\n",
    "        bl_x = i[0][3][0]\n",
    "        bl_y = i[0][3][1]\n",
    "\n",
    "        coords_list.append([ul_x, ul_y, ur_x, ur_y, bl_x, bl_y, br_x, br_y])\n",
    "        \n",
    "    # Sort coords based on id\n",
    "    coords = [x for y, x in sorted(zip(id, coords_list))]\n",
    "    return coords"
   ]
  },
  {
   "cell_type": "code",
   "execution_count": 14,
   "id": "97be335a-07f8-4fc1-a9ee-20d9304f5f36",
   "metadata": {
    "tags": []
   },
   "outputs": [],
   "source": [
    "# obstacle_coord = get_obst()\n",
    "# print(obstacle_coord)"
   ]
  },
  {
   "cell_type": "markdown",
   "id": "5ee809ad-a93a-4709-be9f-903e3a8e203d",
   "metadata": {},
   "source": [
    "# Global path Planning"
   ]
  },
  {
   "cell_type": "markdown",
   "id": "aea46215-f2ea-4ce1-9bef-788472c381ae",
   "metadata": {},
   "source": [
    "## Node map"
   ]
  },
  {
   "cell_type": "code",
   "execution_count": 15,
   "id": "549e49e7-f0f0-4d75-b3b6-001e592fdb75",
   "metadata": {
    "tags": []
   },
   "outputs": [],
   "source": [
    "\n",
    "#various distance function outputing the distance between 2 coordinates depending on their type\n",
    "\n",
    "def distance(node1,node2):\n",
    "    distance=math.sqrt((node_coord_x[node2]-node_coord_x[node1])**2+(node_coord_y[node2]-node_coord_y[node1])**2)\n",
    "    distance=round(distance,2)\n",
    "    return distance\n",
    "def distance_goal_node(goal,node):\n",
    "    distance=math.sqrt((goal_coord_x[goal]-node_coord_x[node])**2+(goal_coord_y[goal]-node_coord_y[node])**2)\n",
    "    distance=round(distance,2)\n",
    "    return distance\n",
    "\n",
    "def distance_node_goal(node,goal):\n",
    "    distance=math.sqrt((goal_coord_x[goal]-node_coord_x[node])**2+(goal_coord_y[goal]-node_coord_y[node])**2)\n",
    "    distance=round(distance,2)\n",
    "    return distance\n",
    "\n",
    "#creating the nodes from the corner. If the corner is on the side of the x axis, the middle point between x=0 and x_corner is taken\n",
    "#if the corner is on the opposite side, a calculation is done to find the middle point between the botttom of the image and the obstacle\n",
    "\n",
    "def node_creation():\n",
    "    for obstacle in range(obs_nbr):\n",
    "        for corner_high in range(2):\n",
    "            node_coord_y.append(obstacle_coord[obstacle][(2*corner_high)+1]/2)\n",
    "            node_coord_x.append(obstacle_coord[obstacle][(2*corner_high)])\n",
    "        for corner_low in range(2):\n",
    "            node_coord_y.append(max_coord_y-((max_coord_y-obstacle_coord[obstacle][(2*corner_low)+5])/2))\n",
    "            node_coord_x.append(obstacle_coord[obstacle][(2*corner_low)+4])\n",
    "\n",
    "def draw_graph(graph_data):\n",
    "    # Creating a graph using networkX\n",
    "    G = nx.Graph()\n",
    "\n",
    "    # Add nodes and edges to the graph\n",
    "    for node, edges in graph_data.items():\n",
    "        G.add_node(node)\n",
    "        for neighbor, weight in edges.items():\n",
    "            G.add_edge(node, neighbor, weight=weight)\n",
    "\n",
    "    # Draw the graph\n",
    "    pos = nx.spring_layout(G)  # Node positions for a clearer appearance\n",
    "    labels = nx.get_edge_attributes(G, 'weight')\n",
    "    nx.draw(G, pos, with_labels=True, node_size=700, node_color=\"skyblue\", font_size=8)\n",
    "    nx.draw_networkx_edge_labels(G, pos, edge_labels=labels)\n",
    "\n",
    "    # Display the graph\n",
    "    plt.show()\n",
    "\n",
    "#creation of all the links between the nodes following the pattern presented above\n",
    "\n",
    "def connect_nodes(obs_nbr):     \n",
    "    for nb_node in range(obs_nbr*4-1):\n",
    "        if nb_node % 2 == 0:\n",
    "            graph.add_edge(nb_node, nb_node + 1, distance(nb_node, nb_node + 1))\n",
    "            if nb_node > 3:\n",
    "                graph.add_edge(nb_node, nb_node -3, distance(nb_node, nb_node -3))\n",
    "                if nb_node % 4 == 0:\n",
    "                    graph.add_edge(nb_node, nb_node - 1, distance(nb_node, nb_node - 1))\n",
    "                else:\n",
    "                    graph.add_edge(nb_node, nb_node - 5, distance(nb_node, nb_node - 5))\n",
    "        else:\n",
    "            graph.add_edge(nb_node, nb_node - 1, distance(nb_node, nb_node - 1))\n",
    "            if nb_node < (obs_nbr-1)*4:\n",
    "                graph.add_edge(nb_node, nb_node + 3, distance(nb_node, nb_node + 3))\n",
    "                if (nb_node-1) % 4 == 0:\n",
    "                    graph.add_edge(nb_node, nb_node + 5, distance(nb_node, nb_node + 5))\n",
    "                else:\n",
    "                    graph.add_edge(nb_node, nb_node + 1, distance(nb_node, nb_node + 1))\n",
    "\n"
   ]
  },
  {
   "cell_type": "markdown",
   "id": "3541c62b-4551-4d53-8e75-1d3de861513e",
   "metadata": {},
   "source": [
    "## Localisation of the Thymio and goal on the node map and creation of the links"
   ]
  },
  {
   "cell_type": "code",
   "execution_count": 16,
   "id": "95bec5dd-2d80-44f7-9d4f-3e8051c33bf8",
   "metadata": {
    "tags": []
   },
   "outputs": [],
   "source": [
    "\n",
    "\n",
    "def localisation(object):\n",
    "\n",
    "    column=0\n",
    "    break_flag=0\n",
    "    \n",
    "    for obstacle in range(obs_nbr):\n",
    "        for corner in range(2):\n",
    "            if goal_coord_x[object]<obstacle_coord[obstacle][(2*corner)]:\n",
    "                break_flag=1\n",
    "                break\n",
    "            column+=1\n",
    "            \n",
    "        if break_flag==1:\n",
    "            break\n",
    "            \n",
    "    print(column)\n",
    "    if column % 2 == 0:   #even column means no obstacles, 4 links to add. If on the first or last column, only 2 to the nearest obstacle\n",
    "    \n",
    "        if column < 2 * obs_nbr:\n",
    "            graph.add_edge(object + offset, 2 * column, distance_goal_node(object, 2 * column))\n",
    "            graph.add_edge(2 * column, object + offset, distance_node_goal(2 * column, object))\n",
    "\n",
    "            graph.add_edge(object + offset, 2 * column + 2, distance_goal_node(object, 2 * column + 2))\n",
    "            graph.add_edge(2 * column + 2, object + offset, distance_node_goal(2 * column + 2, object))\n",
    "    \n",
    "        if column > 0:\n",
    "            graph.add_edge(object + offset, 2 * column - 1, distance_goal_node(object, 2 * column - 1))\n",
    "            graph.add_edge(2 * column - 1, object + offset, distance_node_goal(2 * column - 1, object))\n",
    "\n",
    "            graph.add_edge(object + offset, 2 * column - 3, distance_goal_node(object, 2 * column - 3))\n",
    "            graph.add_edge(2 * column - 3, object + offset, distance_node_goal(2 * column - 3, object))\n",
    "            \n",
    "  \n",
    "    else:   #odd column, we need to check if we are above or under and obstacle, and then generate the 2 link \n",
    "        \n",
    "        if goal_coord_y[object] < obstacle_coord[math.floor((column - 1) / 2)][1]:\n",
    "            graph.add_edge(object + offset, (2 * column) - 1, distance_goal_node(object, (2 * column) - 1))\n",
    "            graph.add_edge((2 * column) - 1, object + offset, distance_node_goal((2 * column) - 1, object))\n",
    "\n",
    "            graph.add_edge(object + offset, (2 * column) - 2, distance_goal_node(object, (2 * column) - 2))\n",
    "            graph.add_edge((2 * column) - 2, object + offset, distance_node_goal((2 * column) - 2, object))\n",
    "        else:\n",
    "            graph.add_edge(object + offset, (2 * column), distance_goal_node(object, (2 * column)))\n",
    "            graph.add_edge((2 * column), object + offset, distance_node_goal((2 * column), object))\n",
    "\n",
    "            graph.add_edge(object + offset, (2 * column) + 1, distance_goal_node(object, (2 * column) + 1))\n",
    "            graph.add_edge((2 * column) + 1, object + offset, distance_node_goal((2 * column) + 1, object))\n",
    "\n",
    "\n",
    "            \n"
   ]
  },
  {
   "cell_type": "markdown",
   "id": "01f63ff2-9f89-4296-9760-83ac2c9550fb",
   "metadata": {},
   "source": [
    "## global navigation function"
   ]
  },
  {
   "cell_type": "code",
   "execution_count": 17,
   "id": "0e9f5711-62ae-46e2-a625-c3dc17bee608",
   "metadata": {
    "tags": []
   },
   "outputs": [],
   "source": [
    "def global_navigation():\n",
    "    current_photo()             \n",
    "    global center_thymio \n",
    "    center_thymio  = get_Thymio()  \n",
    "    global center_goal\n",
    "    center_goal = get_goal()\n",
    "    global obstacle_coord\n",
    "    obstacle_coord = get_obst()\n",
    "    global obs_nbr                     #amount of obstacle in the arena\n",
    "    obs_nbr = len(obstacle_coord)\n",
    "    global node_coord_x                #x coordinate of the node, arranged in the sequence presented above\n",
    "    node_coord_x=[]      \n",
    "    global node_coord_y                 #y coordinates of the node, arranged in the sequence presented above\n",
    "    node_coord_y=[]\n",
    "    \n",
    "    global max_coord_y\n",
    "    max_coord_y=480\n",
    "\n",
    "    global graph\n",
    "    graph = Graph()                #node map will be stored here\n",
    "    global goal_coord_x\n",
    "    goal_coord_x=[center_thymio[0][0],center_goal[0]]   \n",
    "    global goal_coord_y\n",
    "    goal_coord_y=[center_thymio[0][1],center_goal[1]]\n",
    "    global offset\n",
    "    offset=obs_nbr*4\n",
    "    \n",
    "    node_creation()   #creation of the nodes\n",
    "    connect_nodes(obs_nbr)       #creation of the nodes map\n",
    "    localisation(0)             #adding thymio (0) and goal(1) on the map\n",
    "    localisation(1)\n",
    "    \n",
    "    global shortest_path\n",
    "    shortest_path = find_path(graph, offset, offset+1)   #dijstra algorithm to find the shortest path on the node map\n",
    "    shortest_path[0].append(offset+2)    #flag to indicate the end of the navigation (goal attained)\n",
    "\n",
    "    global current_goal\n",
    "    current_goal=1                  #indicate the index of the shortest_path list the robot should follow\n",
    "\n",
    "    node_coord_x.append(center_goal[0])     #coordinates of the goal and finish flag\n",
    "    node_coord_y.append(center_goal[1])\n",
    "    node_coord_x.append(center_goal[0])\n",
    "    node_coord_y.append(center_goal[1])\n",
    "    \n",
    "    draw_graph(graph)\n",
    "    print(shortest_path)\n",
    "\n",
    "    "
   ]
  },
  {
   "cell_type": "code",
   "execution_count": 18,
   "id": "056f5643-3979-4bee-818d-72f808ea17cd",
   "metadata": {
    "tags": []
   },
   "outputs": [],
   "source": [
    "def global_navigation_real_time(corners,ids, center_thymio,center_goal,obstacle_coord):\n",
    "\n",
    "    #same as above but without recomputing the nodes coordinates. The path is rebuilt with the new position of thymio after kidnapping\n",
    "    \n",
    "    global max_coord_y\n",
    "    max_coord_y=480\n",
    "\n",
    "    global graph\n",
    "    graph = Graph()\n",
    "    print(center_thymio)\n",
    "    global goal_coord_x\n",
    "    goal_coord_x[0]=center_thymio[0][0] \n",
    "    global goal_coord_y\n",
    "    goal_coord_y[0]=center_thymio[0][1]\n",
    "\n",
    "    \n",
    "    connect_nodes(obs_nbr)\n",
    "    print(graph)\n",
    "    draw_graph(graph)\n",
    "    localisation(0)\n",
    "    localisation(1)\n",
    "    print(graph)\n",
    "    draw_graph(graph)\n",
    "    \n",
    "    global shortest_path\n",
    "    shortest_path=0\n",
    "    shortest_path = find_path(graph, offset, offset+1)\n",
    "    shortest_path[0].append(offset+2)\n",
    "    print(shortest_path)\n",
    "    global current_goal\n",
    "    current_goal=1\n",
    "    \n",
    "    \n",
    "    draw_graph(graph)\n",
    "    print(shortest_path)\n",
    "    \n",
    "\n",
    "    "
   ]
  },
  {
   "cell_type": "markdown",
   "id": "7a5ec67d-fc4c-423d-93d6-c56bce849103",
   "metadata": {},
   "source": [
    "## Movement\n",
    "\n",
    "\n",
    "### PID and P Controller variables\n"
   ]
  },
  {
   "cell_type": "code",
   "execution_count": 19,
   "id": "3b2b41e6-b5d8-4302-a5c9-e3adf66b2182",
   "metadata": {
    "tags": []
   },
   "outputs": [],
   "source": [
    "thymio_angle=0     #thymio angle relative to -x\n",
    "goal_vector=[0,0]   #vector between thymio and its current goal\n",
    "goal_angle=0\n",
    "\n",
    "error_angle=0.0    #angular error between thymio orientation and goal_vector\n",
    "\n",
    "# adjust later\n",
    "distance_to_goal=0\n",
    "distance_threshold=30   #once under this distance from a node, switch to next node\n",
    "speed_threshold=50      #once under this distance from a node, slow down\n",
    "\n",
    "iteration_period=0\n",
    "last_error_angle=0\n",
    "\n",
    "\n",
    "motor_command = [0,0,0]   #motor command, [left, right]\n",
    "motor_command_max=200\n",
    "transversal_speed=0\n",
    "rotation_speed=0\n",
    "total_speed=[0,0]\n",
    "\n",
    "proximity_gain=0.1     \n",
    "proximity_threshold=250         \n",
    "proximity_command=[0,0]\n",
    "proximity_speed=25         #offset speed during local avoidance\n",
    "\n",
    "goal_status=0\n",
    "\n",
    "#PID controller for angular speed\n",
    "\n",
    "Kp=2\n",
    "Kd=0.01\n",
    "Ki=0.01\n",
    "derivative=0\n",
    "integral=0\n",
    "integral_max=50;\n",
    "\n",
    "#P controller for transversal speed\n",
    "\n",
    "Kp2=350\n",
    "\n",
    "\n"
   ]
  },
  {
   "cell_type": "markdown",
   "id": "86cd6f1b-9ea4-4ef9-b661-ef264172e3e5",
   "metadata": {},
   "source": [
    "## PID and P controller and local avoidance"
   ]
  },
  {
   "cell_type": "code",
   "execution_count": 20,
   "id": "9e3ac924-00e5-47ed-a3be-44b0af5b964c",
   "metadata": {
    "tags": []
   },
   "outputs": [],
   "source": [
    "def get_angle(y,x):\n",
    "    angle=math.degrees(math.atan2(y,x))\n",
    "    return angle\n",
    "\n",
    "\n",
    "\n",
    "def controller(center,current_goal, time_period, proximity):\n",
    "    \n",
    "    global error_angle, integral, derivative, motor_command, motor_command_max, transversal_speed, proximity_command, proximity_speed, proximity_threshold, proximity_gain\n",
    "    \n",
    "    #--------------------------------- Angle and distance computation----------------------------------------\n",
    "    \n",
    "    goal_vector=[center[0][0]-node_coord_x[shortest_path[0][current_goal]],center[0][1]-node_coord_y[shortest_path[0][current_goal]]]  #vector between thymio and goal\n",
    "\n",
    "    goal_angle=get_angle(goal_vector[1],goal_vector[0])  #angle from horizontal of goal_vector\n",
    "\n",
    "   \n",
    "                         \n",
    "    thymio_vector=[center[0][0]-center[1][0],center[0][1]-center[1][1]]\n",
    "                    \n",
    "    thymio_angle=get_angle(thymio_vector[1],thymio_vector[0])     #angle of thymio relative to -x\n",
    "\n",
    "    last_error_angle=error_angle\n",
    "\n",
    "                         \n",
    "    error_angle=thymio_angle-goal_angle #error between direction of thymio and goal_vector\n",
    "    if error_angle>180:  #converstion from 0-360 to -180-180\n",
    "        error_angle-=360\n",
    "\n",
    "    \n",
    "    distance_to_goal=distance=math.sqrt((center[0][0]-node_coord_x[shortest_path[0][current_goal]])**2+(center[0][1]-node_coord_y[shortest_path[0][current_goal]])**2)\n",
    "    #distance between the thymio and the current goal\n",
    "\n",
    "    \n",
    "\n",
    "     #--------------------------------- Derivative, integrale and speeds computation----------------------------------------\n",
    "\n",
    "    \n",
    "    \n",
    "    derivative=(error_angle-last_error_angle)/time_period  #derivative of the angular error\n",
    "    \n",
    "    integral+=error_angle*time_period #integral of the angular error\n",
    "    \n",
    "    if abs(integral)>integral_max:\n",
    "        integral=integral_max*(integral/abs(integral))   #anti windup mechanism \n",
    "\n",
    "    transversal_speed=(1/(abs(error_angle)+2))*Kp2 #transversal speed lower if the error is big and faster if the error is low (+2 to avoid the asymptote at 0)\n",
    "    \n",
    "    if distance_to_goal<speed_threshold:    # Make the robot go slower if close to the goal\n",
    "        transversal_speed=transversal_speed/2\n",
    "    \n",
    "    rotation_speed=error_angle*(Kp+Ki*integral+Kd*derivative) #PID regulator for rotation speed\n",
    "\n",
    "    \n",
    "\n",
    "     #--------------------------------- Local avoidance with proximity sensors----------------------------------------\n",
    "\n",
    "    \n",
    "\n",
    "    if (proximity[0]+proximity[1]+proximity[2]+proximity[3]+proximity[4])>proximity_threshold:   #local avoidance, increase speed on one motor to avoid an obstacle\n",
    "        if proximity[3]+proximity[4]>proximity[0]+proximity[1]+proximity[2]:   #detection of which side is the obstacle\n",
    "            proximity_command[1]=proximity_gain*(proximity[3]+proximity[4])\n",
    "            proximity_speed=25                               #offset speed to compensate that the transversal speed will be very low if the error is big during the avoidance\n",
    "    \n",
    "        else:\n",
    "            proximity_command[0]=proximity_gain*(proximity[0]+proximity[1]+proximity[2])\n",
    "            proximity_speed=25\n",
    "    else:\n",
    "        proximity_command=[0,0]\n",
    "        proximity_speed-=1                            #fading offset speed after local avoidance to gain a bit of distance from the obstacle\n",
    "        if proximity_speed<0:\n",
    "            proximity_speed=0\n",
    "\n",
    "\n",
    "    \n",
    "\n",
    "     #---------------------------------Computing total motor speed----------------------------------------\n",
    "\n",
    "\n",
    "    \n",
    "    \n",
    "    transversal_speed+=proximity_speed\n",
    "\n",
    "    \n",
    "    total_speed[0] = -rotation_speed+transversal_speed+proximity_command[0] #differential speed for both motor\n",
    "    total_speed[1] = rotation_speed+transversal_speed+proximity_command[1]\n",
    "\n",
    "\n",
    "    if abs(motor_command[0])>motor_command_max: \n",
    "        motor_command[0]=motor_command_max*(motor_command[0]/abs(motor_command[0]))  #command limitation if it goes above the max allowed, with the right sign\n",
    "\n",
    "    if abs(motor_command[1])>motor_command_max:\n",
    "        motor_command[1]=motor_command_max*(motor_command[1]/abs(motor_command[1]))  #command limitation if it goes above the max allowed, with the right sign\n",
    "\n",
    "\n",
    "    if distance_to_goal<distance_threshold:    #Switch to the next node if close enough to the current goal\n",
    "        total_speed[0]=0\n",
    "        total_speed[1]=0\n",
    "        motor_command[2]=0                     #flag used to communicate to the main that the goal is attained\n",
    "        integral=0\n",
    "\n",
    "   \n",
    "    motor_command[0]=round(total_speed[0])\n",
    "    motor_command[1]=round(total_speed[1])\n",
    "                            \n",
    "    #---------------------------------Monitoring----------------------------------------  \n",
    "    \n",
    "    print_statements = [error_angle, transversal_speed, thymio_angle, derivative, proximity_speed, integral]\n",
    "    print_statements[0] = transversal_speed\n",
    "    print_statements[1] = rotation_speed\n",
    "    print_statements[2] = shortest_path[0]\n",
    "    print_statements[3] = shortest_path[0][current_goal]\n",
    "    print_statements[4] = current_goal\n",
    "\n",
    "    print(\"transversal speed\")\n",
    "    print(print_statements[0])\n",
    "    print(\"angular speed\")\n",
    "    print(print_statements[1])\n",
    "    print(\"Path\")\n",
    "    print(print_statements[2])\n",
    "    print(\"Next node\")\n",
    "    print(print_statements[3])\n",
    "    print(\"current goal\")\n",
    "    print(print_statements[4])\n",
    "    return motor_command"
   ]
  },
  {
   "cell_type": "markdown",
   "id": "0c902447-001b-4023-aa16-d03d0a5758a7",
   "metadata": {},
   "source": [
    "## Get the coordinates in real time"
   ]
  },
  {
   "cell_type": "markdown",
   "id": "19bdaa86-e52b-4a7a-af21-938fdb771492",
   "metadata": {},
   "source": [
    "## Thymio"
   ]
  },
  {
   "cell_type": "code",
   "execution_count": 21,
   "id": "ef1c8332-2cf4-4cdc-a22f-dbf630bfdf58",
   "metadata": {
    "tags": []
   },
   "outputs": [],
   "source": [
    "def thymio_real_time(corners, ids):\n",
    "    # Get thymio at idx 0 and 1\n",
    "    idx_back = np.where(ids == 0)[0]\n",
    "    idx_fowards = np.where(ids == 1)[0]\n",
    "\n",
    "    if idx_back.size > 0 and idx_fowards.size > 0:\n",
    "        idx_back = idx_back[0]\n",
    "        idx_fowards = idx_fowards[0]\n",
    "\n",
    "        idx = [idx_back, idx_fowards]\n",
    "        coords = [corners[i].tolist() for i in idx]\n",
    "\n",
    "        center = []\n",
    "        for i in coords:\n",
    "            # Get center coordinates to return\n",
    "            x1 = i[0][0][0]\n",
    "            y1 = i[0][0][1]\n",
    "            x2 = i[0][2][0]\n",
    "            y2 = i[0][2][1]\n",
    "\n",
    "            x_center = (x1 + x2) / 2\n",
    "            y_center = (y1 + y2) / 2\n",
    "\n",
    "            center.append([x_center, y_center])\n",
    "\n",
    "        return center"
   ]
  },
  {
   "cell_type": "markdown",
   "id": "9f8eb7e7-85e4-47f9-9365-bc5c2fe97cf8",
   "metadata": {},
   "source": [
    "## Main loop"
   ]
  },
  {
   "cell_type": "markdown",
   "id": "372dd9d7-28c3-4145-80ad-38f03b573713",
   "metadata": {},
   "source": [
    "Must run each cell individually and wait for it to complete "
   ]
  },
  {
   "cell_type": "code",
   "execution_count": 22,
   "id": "3a42a228-d013-41a5-b259-615b91dffd35",
   "metadata": {
    "tags": []
   },
   "outputs": [],
   "source": [
    "# Fix to recieve error \n"
   ]
  },
  {
   "cell_type": "code",
   "execution_count": 23,
   "id": "093c719a-8916-4ac5-8b69-0a94ceac615b",
   "metadata": {
    "tags": []
   },
   "outputs": [
    {
     "name": "stdout",
     "output_type": "stream",
     "text": [
      "Coord [[[[131.0, 342.0], [184.0, 331.0], [194.0, 385.0], [141.0, 394.0]]], [[[288.0, 302.0], [340.0, 301.0], [340.0, 354.0], [288.0, 355.0]]], [[[431.0, 120.0], [484.0, 112.0], [490.0, 165.0], [439.0, 173.0]]]]\n",
      "ID [[2]\n",
      " [3]\n",
      " [4]]\n",
      "2\n",
      "5\n"
     ]
    },
    {
     "data": {
      "image/png": "[encoded data removed]",
      "text/plain": [
       "<Figure size 640x480 with 1 Axes>"
      ]
     },
     "metadata": {},
     "output_type": "display_data"
    },
    {
     "name": "stdout",
     "output_type": "stream",
     "text": [
      "PathInfo(nodes=[12, 4, 5, 10, 13, 14], edges=[121.92, 52.0, 201.93, 81.98], costs=[121.92, 52.0, 201.93, 81.98], total_cost=457.83000000000004)\n"
     ]
    }
   ],
   "source": [
    "global_navigation()"
   ]
  },
  {
   "cell_type": "code",
   "execution_count": 30,
   "id": "e09c8125-e3a3-4297-9f2b-6a4ecdc26a19",
   "metadata": {
    "tags": []
   },
   "outputs": [],
   "source": [
    "from tdmclient import ClientAsync, aw"
   ]
  },
  {
   "cell_type": "code",
   "execution_count": 31,
   "id": "801594c0-ba1d-479a-8ef2-173ed07924a6",
   "metadata": {
    "tags": []
   },
   "outputs": [
    {
     "name": "stdout",
     "output_type": "stream",
     "text": [
      "<tdmclient.clientasync.ClientAsync object at 0x000001E383894550>\n"
     ]
    }
   ],
   "source": [
    "#Create a Client Object:\n",
    "client = ClientAsync()\n",
    "print(client)"
   ]
  },
  {
   "cell_type": "code",
   "execution_count": 32,
   "id": "9677e7bf-2a19-4f8f-bdff-300a15ae0152",
   "metadata": {
    "tags": []
   },
   "outputs": [
    {
     "name": "stdout",
     "output_type": "stream",
     "text": [
      "[Node aab42e35-3b95-4e21-ac5a-4296aadae5f2]\n"
     ]
    }
   ],
   "source": [
    "\n",
    "client.process_waiting_messages()\n",
    "print(client.nodes)\n"
   ]
  },
  {
   "cell_type": "code",
   "execution_count": 34,
   "id": "7f0bbda1-28d6-4ee9-bce8-40d4c0986fdd",
   "metadata": {
    "tags": []
   },
   "outputs": [
    {
     "name": "stdout",
     "output_type": "stream",
     "text": [
      "[Node aab42e35-3b95-4e21-ac5a-4296aadae5f2]\n"
     ]
    }
   ],
   "source": [
    "#while True:\n",
    "print( client.nodes)\n",
    "node = client.nodes[0]"
   ]
  },
  {
   "cell_type": "code",
   "execution_count": 35,
   "id": "2aa344e5-63d7-4da4-8060-f50f986aecc7",
   "metadata": {
    "tags": []
   },
   "outputs": [
    {
     "ename": "NodeLockError",
     "evalue": "Node lock error (current status: busy)",
     "output_type": "error",
     "traceback": [
      "\u001b[1;31m---------------------------------------------------------------------------\u001b[0m",
      "\u001b[1;31mNodeLockError\u001b[0m                             Traceback (most recent call last)",
      "Cell \u001b[1;32mIn[35], line 1\u001b[0m\n\u001b[1;32m----> 1\u001b[0m aw(node\u001b[38;5;241m.\u001b[39mlock())\n",
      "File \u001b[1;32m~\\anaconda3\\Lib\\site-packages\\tdmclient\\clientasync.py:214\u001b[0m, in \u001b[0;36mClientAsync.aw\u001b[1;34m(co)\u001b[0m\n\u001b[0;32m    211\u001b[0m     \u001b[38;5;28;01mnonlocal\u001b[39;00m r\n\u001b[0;32m    212\u001b[0m     r \u001b[38;5;241m=\u001b[39m \u001b[38;5;28;01mawait\u001b[39;00m co\n\u001b[1;32m--> 214\u001b[0m ClientAsync\u001b[38;5;241m.\u001b[39mrun_async_program(prog)\n\u001b[0;32m    215\u001b[0m \u001b[38;5;28;01mreturn\u001b[39;00m r\n",
      "File \u001b[1;32m~\\anaconda3\\Lib\\site-packages\\tdmclient\\clientasync.py:199\u001b[0m, in \u001b[0;36mClientAsync.run_async_program\u001b[1;34m(prog)\u001b[0m\n\u001b[0;32m    197\u001b[0m \u001b[38;5;28;01mtry\u001b[39;00m:\n\u001b[0;32m    198\u001b[0m     \u001b[38;5;28;01mwhile\u001b[39;00m \u001b[38;5;28;01mTrue\u001b[39;00m:\n\u001b[1;32m--> 199\u001b[0m         co\u001b[38;5;241m.\u001b[39msend(\u001b[38;5;28;01mNone\u001b[39;00m)\n\u001b[0;32m    200\u001b[0m \u001b[38;5;28;01mexcept\u001b[39;00m \u001b[38;5;167;01mStopIteration\u001b[39;00m:\n\u001b[0;32m    201\u001b[0m     \u001b[38;5;28;01mpass\u001b[39;00m\n",
      "File \u001b[1;32m~\\anaconda3\\Lib\\site-packages\\tdmclient\\clientasync.py:212\u001b[0m, in \u001b[0;36mClientAsync.aw.<locals>.prog\u001b[1;34m()\u001b[0m\n\u001b[0;32m    210\u001b[0m \u001b[38;5;28;01masync\u001b[39;00m \u001b[38;5;28;01mdef\u001b[39;00m \u001b[38;5;21mprog\u001b[39m():\n\u001b[0;32m    211\u001b[0m     \u001b[38;5;28;01mnonlocal\u001b[39;00m r\n\u001b[1;32m--> 212\u001b[0m     r \u001b[38;5;241m=\u001b[39m \u001b[38;5;28;01mawait\u001b[39;00m co\n",
      "File \u001b[1;32m~\\anaconda3\\Lib\\site-packages\\tdmclient\\clientasyncnode.py:61\u001b[0m, in \u001b[0;36mClientAsyncNode.lock\u001b[1;34m(self)\u001b[0m\n\u001b[0;32m     59\u001b[0m result \u001b[38;5;241m=\u001b[39m \u001b[38;5;28;01myield from\u001b[39;00m \u001b[38;5;28mself\u001b[39m\u001b[38;5;241m.\u001b[39mlock_node()\n\u001b[0;32m     60\u001b[0m \u001b[38;5;28;01mif\u001b[39;00m result \u001b[38;5;129;01mis\u001b[39;00m \u001b[38;5;129;01mnot\u001b[39;00m \u001b[38;5;28;01mNone\u001b[39;00m:\n\u001b[1;32m---> 61\u001b[0m     \u001b[38;5;28;01mraise\u001b[39;00m NodeLockError(\u001b[38;5;28mself\u001b[39m\u001b[38;5;241m.\u001b[39mstatus)\n\u001b[0;32m     62\u001b[0m \u001b[38;5;28;01mreturn\u001b[39;00m \u001b[38;5;28mself\u001b[39m\n",
      "\u001b[1;31mNodeLockError\u001b[0m: Node lock error (current status: busy)"
     ]
    }
   ],
   "source": [
    "aw(node.lock())"
   ]
  },
  {
   "cell_type": "code",
   "execution_count": 36,
   "id": "090d727e-5142-4262-b9d0-815ef6361543",
   "metadata": {
    "tags": []
   },
   "outputs": [],
   "source": [
    "aruco_dict = aruco.getPredefinedDictionary(cv2.aruco.DICT_5X5_50)\n",
    "parameters = aruco.DetectorParameters()  \n",
    "detector = aruco.ArucoDetector(aruco_dict, parameters)\n"
   ]
  },
  {
   "cell_type": "code",
   "execution_count": 37,
   "id": "78e52218-66f5-4dc1-a47f-0515d569fcd1",
   "metadata": {
    "tags": []
   },
   "outputs": [
    {
     "data": {
      "text/plain": [
       "{'error_code': 2}"
      ]
     },
     "execution_count": 37,
     "metadata": {},
     "output_type": "execute_result"
    }
   ],
   "source": [
    "    v = {\n",
    "        \"motor.left.target\": [0],\n",
    "        \"motor.right.target\": [0],\n",
    "    }\n",
    "    aw(node.set_variables(v))"
   ]
  },
  {
   "cell_type": "code",
   "execution_count": 38,
   "id": "425e498e-4be8-4c7d-b841-3db3d387588b",
   "metadata": {
    "tags": []
   },
   "outputs": [],
   "source": [
    "def get_line():\n",
    "    # Gets first start of line\n",
    "    start_point = get_Thymio()\n",
    "    start_foward = start_point[0]\n",
    "    coords = []\n",
    "    start_x = round((start_foward[0]))\n",
    "    start_y = round((start_foward[1]))\n",
    "    coords.append((start_x, start_y))\n",
    "    # Get nodes\n",
    "    for i in range(1, (len(shortest_path[0])-2)):\n",
    "        coord_x = round(node_coord_x[shortest_path[0][i]])\n",
    "        coord_y = round(node_coord_y[shortest_path[0][i]])\n",
    "        coords.append((coord_x, coord_y))\n",
    "        \n",
    "    goal_point = get_goal()\n",
    "    goal_x = round((goal_point[0]))\n",
    "    goal_y = round((goal_point[1]))\n",
    "    coords.append((goal_x, goal_y))\n",
    "    return coords\n",
    "        "
   ]
  },
  {
   "cell_type": "code",
   "execution_count": 39,
   "id": "f31f5f82-0f37-4eab-9c9f-c924fcf92028",
   "metadata": {
    "tags": []
   },
   "outputs": [],
   "source": [
    "def second_line():\n",
    "    # Gets first start of line\n",
    "    start_point = thymio_real_time(corners, ids)\n",
    "    start_foward = start_point[0]\n",
    "    coords = []\n",
    "    start_x = round((start_foward[0]))\n",
    "    start_y = round((start_foward[1]))\n",
    "    coords.append((start_x, start_y))\n",
    "    # Get nodes\n",
    "    for i in range(1, (len(shortest_path[0])-2)):\n",
    "        coord_x = round(node_coord_x[shortest_path[0][i]])\n",
    "        coord_y = round(node_coord_y[shortest_path[0][i]])\n",
    "        coords.append((coord_x, coord_y))\n",
    "        \n",
    "    goal_point = get_goal()\n",
    "    goal_x = round((goal_point[0]))\n",
    "    goal_y = round((goal_point[1]))\n",
    "    coords.append((goal_x, goal_y))\n",
    "    return coords\n",
    "        "
   ]
  },
  {
   "cell_type": "code",
   "execution_count": 40,
   "id": "3c85b851-30aa-4f99-9873-a948def0e28f",
   "metadata": {
    "tags": []
   },
   "outputs": [
    {
     "name": "stdout",
     "output_type": "stream",
     "text": [
      "[(196, 231), (288, 151), (340, 150), (439, 326), (454, 246)]\n"
     ]
    }
   ],
   "source": [
    "coords = get_line()\n",
    "print(coords)"
   ]
  },
  {
   "cell_type": "code",
   "execution_count": 41,
   "id": "72d92423-fa8a-43e7-b6a6-6720d17b22df",
   "metadata": {
    "tags": []
   },
   "outputs": [],
   "source": [
    "def draw_line(coords):\n",
    "    color = (255, 255, 255) \n",
    "    thickness = 9\n",
    "    \n",
    "    j = 1\n",
    "    for i in range(len(coords)-1):\n",
    "        start_point = coords[i]\n",
    "        end_point = coords[j]\n",
    "        cv2.line(frame, start_point, end_point, color, thickness) \n",
    "        j = j+1"
   ]
  },
  {
   "cell_type": "code",
   "execution_count": 42,
   "id": "1300ce71-6a6a-4c7d-9b22-5b042a1dea0e",
   "metadata": {
    "tags": []
   },
   "outputs": [],
   "source": [
    "def second_draw(coords):\n",
    "    color = (0, 0, 0) \n",
    "    thickness = 9\n",
    "    \n",
    "    j = 1\n",
    "    for i in range(len(coords)-1):\n",
    "        start_point = coords[i]\n",
    "        end_point = coords[j]\n",
    "        cv2.line(frame, start_point, end_point, color, thickness) \n",
    "        j = j+1"
   ]
  },
  {
   "cell_type": "markdown",
   "id": "a1e5c996-80fb-46ce-987a-7f20cf510e62",
   "metadata": {},
   "source": [
    "Notes: We will need to add local navigation and kidnapping"
   ]
  },
  {
   "cell_type": "code",
   "execution_count": null,
   "id": "22576ee7-137a-4e09-89db-0fa81fb6d37c",
   "metadata": {},
   "outputs": [],
   "source": []
  },
  {
   "cell_type": "code",
   "execution_count": 44,
   "id": "07cf378d-c6df-4485-bdc8-b223b8dcec37",
   "metadata": {
    "tags": []
   },
   "outputs": [
    {
     "ename": "TypeError",
     "evalue": "'NoneType' object is not subscriptable",
     "output_type": "error",
     "traceback": [
      "\u001b[1;31m---------------------------------------------------------------------------\u001b[0m",
      "\u001b[1;31mTypeError\u001b[0m                                 Traceback (most recent call last)",
      "Cell \u001b[1;32mIn[44], line 59\u001b[0m\n\u001b[0;32m     57\u001b[0m     draw_line(coords)\n\u001b[0;32m     58\u001b[0m \u001b[38;5;28;01melse\u001b[39;00m:\n\u001b[1;32m---> 59\u001b[0m     coords \u001b[38;5;241m=\u001b[39m second_line()\n\u001b[0;32m     60\u001b[0m     second_draw(coords)\n\u001b[0;32m     62\u001b[0m \u001b[38;5;66;03m# Display the frame\u001b[39;00m\n",
      "Cell \u001b[1;32mIn[39], line 4\u001b[0m, in \u001b[0;36msecond_line\u001b[1;34m()\u001b[0m\n\u001b[0;32m      1\u001b[0m \u001b[38;5;28;01mdef\u001b[39;00m \u001b[38;5;21msecond_line\u001b[39m():\n\u001b[0;32m      2\u001b[0m     \u001b[38;5;66;03m# Gets first start of line\u001b[39;00m\n\u001b[0;32m      3\u001b[0m     start_point \u001b[38;5;241m=\u001b[39m thymio_real_time(corners, ids)\n\u001b[1;32m----> 4\u001b[0m     start_foward \u001b[38;5;241m=\u001b[39m start_point[\u001b[38;5;241m0\u001b[39m]\n\u001b[0;32m      5\u001b[0m     coords \u001b[38;5;241m=\u001b[39m []\n\u001b[0;32m      6\u001b[0m     start_x \u001b[38;5;241m=\u001b[39m \u001b[38;5;28mround\u001b[39m((start_foward[\u001b[38;5;241m0\u001b[39m]))\n",
      "\u001b[1;31mTypeError\u001b[0m: 'NoneType' object is not subscriptable"
     ]
    }
   ],
   "source": [
    "import time\n",
    "from IPython.display import clear_output\n",
    "\n",
    "\n",
    "start_time=0\n",
    "end_time=1\n",
    "\n",
    "motor_command[2]=1\n",
    "finished=0\n",
    "thymio_coords=[[0,0],[0,0]]\n",
    "proxmity_sensors=[0,0,0,0,0,0,0]\n",
    "\n",
    "cap = cv2.VideoCapture(1, cv2.CAP_DSHOW)  # Use 0 if you have only one camera\n",
    "\n",
    "holder = [[0,0],[0,0]]\n",
    "current_goal=1\n",
    "\n",
    "acceleration=0\n",
    "global_navigation_kidnapping=0\n",
    "kidnap_active = 0\n",
    "timer = 0\n",
    "\n",
    "start_line = 0\n",
    "while True:\n",
    "    i = 0\n",
    "    global thymio_coords\n",
    "\n",
    "    \n",
    "    end_time = time.perf_counter()\n",
    "    time_period=end_time-start_time    #calculate the duration of 1 iteration of the loop to calculate integrals and derivatives in the controller\n",
    "    start_time = time.perf_counter()\n",
    "\n",
    "\n",
    "   \n",
    "    \n",
    "# --------------------------------------------------------------------------------------------------------#\n",
    "# # # -------------------------------------- Displays live video ------------------------------------ # # #\n",
    "# --------------------------------------------------------------------------------------------------------#\n",
    "\n",
    "    \n",
    "     # Read a frame from the camera\n",
    "    ret, frame = cap.read()\n",
    "\n",
    "\n",
    "    # Convert the frame to grayscale\n",
    "    gray = cv2.cvtColor(frame, cv2.COLOR_BGR2GRAY)\n",
    "    # Detect markers\n",
    "    corners, ids, rejected_img_points = detector.detectMarkers(gray)\n",
    "   \n",
    "    if np.all(ids is not None):\n",
    "        for i in range(len(ids)):\n",
    "            aruco.drawDetectedMarkers(frame, corners, ids)\n",
    "            \n",
    "    # This draws the very initial line     \n",
    "    if start_line == 0:\n",
    "        coords = get_line() \n",
    "        draw_line(coords)\n",
    "    else:\n",
    "        # NOTE: In order to work we will need to pass in thymio coords\n",
    "#         coords = second_line()\n",
    "#         second_draw(coords)\n",
    "    \n",
    "    # Display the frame\n",
    "    cv2.imshow('frame', frame)\n",
    "\n",
    "   \n",
    "    \n",
    "# --------------------------------------------------------------------------------------------------------#\n",
    "# # # -------------------------------------- Update Thymio coords ----------------------------------- # # #\n",
    "# --------------------------------------------------------------------------------------------------------#\n",
    "   \n",
    "    \n",
    "    idx_back = np.where(ids == 0)[0]\n",
    "    idx_fowards = np.where(ids == 1)[0]\n",
    "\n",
    "# ------------------------------- add kalman here --------------------------- #\n",
    "\n",
    "    # Get current thymio_coords\n",
    "    if np.any(idx_fowards):\n",
    "        if np.any(idx_back):\n",
    "            thymio_coords = thymio_real_time(corners, ids)    \n",
    "    else:\n",
    "        thymio_coords = holder\n",
    "\n",
    "        \n",
    "        \n",
    "# --------------------------------------------------------------------------------------------------------#\n",
    "# # # -------------------------------------- kidnapping--------- ------------------------------------ # # #\n",
    "# --------------------------------------------------------------------------------------------------------#    \n",
    "    aw(node.wait_for_variables({\"acc\"}))\n",
    "    acceleration=list(node.v.acc)\n",
    "    \n",
    "    print(\"timer\")\n",
    "    print(timer)\n",
    "    if acceleration[2]>26:          #detection of kidnapping with accelerometer\n",
    "        v = {\n",
    "        \"motor.left.target\": [0],\n",
    "        \"motor.right.target\": [0],\n",
    "        }\n",
    "        aw(node.set_variables(v))\n",
    "        \n",
    "        current_goal=1\n",
    "      \n",
    "        kidnap_active = 1\n",
    "\n",
    "        print(\"KIDNAPPED!\")\n",
    "       #time.sleep(3)                     #delay to have time to move the robot\n",
    "        #global_navigation_kidnapping=1\n",
    "\n",
    "\n",
    "    if kidnap_active == 1:\n",
    "        timer = timer + 1\n",
    "    if timer == 30:\n",
    "    # ------------------------------- add kalman here --------------------------- #\n",
    "        if np.any(idx_fowards):\n",
    "            if np.any(idx_back):\n",
    "                thymio_coords = thymio_real_time(corners, ids)    \n",
    "        else:\n",
    "            thymio_coords = holder\n",
    "        print(\"DONE KIDNAPPING\")\n",
    "        global_navigation_real_time(corners,ids, thymio_coords,center_goal,obstacle_coord)   #recomputin the global path after kidnapping\n",
    "        coords = get_line() \n",
    "        draw_line(coords)\n",
    "        start_line = 1\n",
    "        kidnap_active = 0\n",
    "        timer = 0\n",
    "# --------------------------------------------------------------------------------------------------------#\n",
    "# # # -------------------------------------- Filter ------------------------------------------------- # # #\n",
    "# --------------------------------------------------------------------------------------------------------#\n",
    "    \n",
    "   \n",
    "    \n",
    "\n",
    "# --------------------------------------------------------------------------------------------------------#\n",
    "# # # -------------------------------------- Local Navigation --------------------------------------- # # #\n",
    "# --------------------------------------------------------------------------------------------------------#\n",
    "\n",
    "    \n",
    "    aw(node.wait_for_variables({\"prox.horizontal\"}))   #updating the proximity sensors for the local avoidance\n",
    "    proximity_sensors=list(node.v.prox.horizontal)\n",
    "\n",
    "\n",
    "# --------------------------------------------------------------------------------------------------------#\n",
    "# # # -------------------------------------- Controller --------------------------------------------- # # #\n",
    "# --------------------------------------------------------------------------------------------------------#\n",
    "    \n",
    "    if finished!=1:  \n",
    "        motor_command = controller(thymio_coords, current_goal, time_period, proximity_sensors)   #new motor speed calculated by the controller\n",
    "        motor_left = motor_command[0]\n",
    "        motor_right = motor_command[1] \n",
    "        \n",
    "    if motor_command[2]==0:  #if current_goal is met, switching to the next goal and resetting the flag  \n",
    "        current_goal+=1\n",
    "        motor_command[2]=1  \n",
    "        \n",
    "        if shortest_path[0][current_goal]==offset+2:  #if the final goal is attained, stop the robot\n",
    "            motor_left = 0\n",
    "            motor_right = 0\n",
    "            finished=1\n",
    "            print(\"FINISHED\")\n",
    "            v = {\n",
    "                \"leds_top\": [0,30,0],\n",
    "            }\n",
    "            aw(node.set_variables(v))\n",
    "           \n",
    "    \n",
    "        \n",
    "\n",
    "# --------------------------------------------------------------------------------------------------------#\n",
    "# # # -------------------------------------- Set Thymio motors -------------------------------------- # # #\n",
    "# --------------------------------------------------------------------------------------------------------#\n",
    "    # Setting motors\n",
    "    # If kidnapped\n",
    "    if kidnap_active == 1:\n",
    "        v = {\n",
    "        \"motor.left.target\": [0],\n",
    "        \"motor.right.target\": [0],\n",
    "        }\n",
    "        aw(node.set_variables(v))\n",
    "\n",
    "    else:\n",
    "        v = {\n",
    "            \"motor.left.target\": [motor_left],\n",
    "            \"motor.right.target\": [motor_right],\n",
    "        }\n",
    "        aw(node.set_variables(v))\n",
    "\n",
    "\n",
    "    # Check for the 'q' key to exit the loop\n",
    "    key = cv2.waitKey(1) & 0xFF\n",
    "    if key == ord('q'):\n",
    "        v = {\n",
    "            \"motor.left.target\": [0],\n",
    "            \"motor.right.target\": [0],\n",
    "        }\n",
    "        aw(node.set_variables(v))\n",
    "\n",
    "        break\n",
    "        \n",
    "    holder = thymio_coords\n",
    "    clear_output(wait=True)\n",
    "\n",
    "# Release the camera and close all OpenCV windows\n",
    "cap.release()\n",
    "cv2.destroyAllWindows()\n",
    "    "
   ]
  },
  {
   "cell_type": "code",
   "execution_count": null,
   "id": "5b1d5e67-db63-4938-93b8-68bdf6ba1305",
   "metadata": {},
   "outputs": [],
   "source": []
  },
  {
   "cell_type": "code",
   "execution_count": null,
   "id": "4520b349-cf15-4fd6-b439-2f456ac484d5",
   "metadata": {},
   "outputs": [],
   "source": []
  }
 ],
 "metadata": {
  "kernelspec": {
   "display_name": "Python 3 (ipykernel)",
   "language": "python",
   "name": "python3"
  },
  "language_info": {
   "codemirror_mode": {
    "name": "ipython",
    "version": 3
   },
   "file_extension": ".py",
   "mimetype": "text/x-python",
   "name": "python",
   "nbconvert_exporter": "python",
   "pygments_lexer": "ipython3",
   "version": "3.11.5"
  },
  "toc-autonumbering": false,
  "toc-showcode": false,
  "toc-showmarkdowntxt": true,
  "toc-showtags": false
 },
 "nbformat": 4,
 "nbformat_minor": 5
}
