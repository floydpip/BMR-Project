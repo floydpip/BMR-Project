{
  "nbformat": 4,
  "nbformat_minor": 0,
  "metadata": {
    "colab": {
      "provenance": [],
      "toc_visible": true,
      "authorship_tag": "ABX9TyMuKpIXORmUg3H2rFfPYydS",
      "include_colab_link": true
    },
    "kernelspec": {
      "name": "python3",
      "display_name": "Python 3"
    },
    "language_info": {
      "name": "python"
    }
  },
  "cells": [
    {
      "cell_type": "markdown",
      "metadata": {
        "id": "view-in-github",
        "colab_type": "text"
      },
      "source": [
        "<a href=\"https://colab.research.google.com/github/floydpip/BMR-Project/blob/computer_vision/Main.ipynb\" target=\"_parent\"><img src=\"https://colab.research.google.com/assets/colab-badge.svg\" alt=\"Open In Colab\"/></a>"
      ]
    },
    {
      "cell_type": "markdown",
      "source": [
        "# Imports"
      ],
      "metadata": {
        "id": "ydaZeKFMlVrg"
      }
    },
    {
      "cell_type": "code",
      "source": [],
      "metadata": {
        "id": "pDdpFMkfldYt"
      },
      "execution_count": null,
      "outputs": []
    },
    {
      "cell_type": "markdown",
      "source": [
        "# Computer vision"
      ],
      "metadata": {
        "id": "HAADSeUnlfNT"
      }
    },
    {
      "cell_type": "markdown",
      "source": [
        "First we will start by importing the live video of the arena. We will retrieve that last element in the video array for processing.\n",
        "\n",
        "Reference:\n",
        " https://towardsdatascience.com/video-streaming-in-the-jupyter-notebook-635bc5809e85\n"
      ],
      "metadata": {
        "id": "3QQBkVcwmVqU"
      }
    },
    {
      "cell_type": "code",
      "source": [],
      "metadata": {
        "id": "fY2m-HqsmMLb"
      },
      "execution_count": null,
      "outputs": []
    },
    {
      "cell_type": "markdown",
      "source": [
        "# Localization"
      ],
      "metadata": {
        "id": "OdVXI15RmyYT"
      }
    },
    {
      "cell_type": "markdown",
      "source": [
        "# Algorithm for movement"
      ],
      "metadata": {
        "id": "y5FLhM1QlrPx"
      }
    }
  ]
}