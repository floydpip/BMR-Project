{
 "cells": [
  {
   "cell_type": "markdown",
   "id": "d3f80b1c",
   "metadata": {
    "tags": []
   },
   "source": [
    "# Imports\n"
   ]
  },
  {
   "cell_type": "code",
   "execution_count": 1,
   "id": "4c5ccdbf",
   "metadata": {
    "tags": []
   },
   "outputs": [],
   "source": [
    "import numpy as np\n",
    "# Import opencv for computer vision\n",
    "import cv2 \n",
    "# Import matplotlib to visualize an image\n",
    "from matplotlib import pyplot as plt\n",
    "from __future__ import print_function\n",
    "import sys\n",
    "import cv2\n",
    "from random import randint\n"
   ]
  },
  {
   "cell_type": "markdown",
   "id": "63eccd2e-c5e6-4071-b4a3-af22cfd8c294",
   "metadata": {},
   "source": [
    "## 2. Track location of Thymio and goal"
   ]
  },
  {
   "cell_type": "markdown",
   "id": "a5caf6d2-4163-4acd-a552-321c640b5925",
   "metadata": {},
   "source": [
    "Potential solutions:\n",
    "1. Using Tensorflow\n",
    "https://www.youtube.com/watch?v=yqkISICHH-U\n",
    "\n",
    "2. Using MultiTracker OpenCV\n",
    "https://learnopencv.com/multitracker-multiple-object-tracking-using-opencv-c-python/"
   ]
  },
  {
   "cell_type": "markdown",
   "id": "cf612f29-2d0d-40ca-aa47-fbd7f3805bb2",
   "metadata": {
    "tags": []
   },
   "source": [
    "### Using MultiTracker OpenCV\n"
   ]
  },
  {
   "cell_type": "markdown",
   "id": "500c9b0c-e56b-4e5d-a61b-5992536998ac",
   "metadata": {
    "tags": []
   },
   "source": [
    "Start by creating a single object tracker\n",
    "- below doesnt work"
   ]
  },
  {
   "cell_type": "markdown",
   "id": "7a4c0fbf-c8c4-4aa8-adba-a1076a6d4ca6",
   "metadata": {},
   "source": [
    "Read the first frame of livestream\n",
    "* May need to modify"
   ]
  },
  {
   "cell_type": "markdown",
   "id": "ed8ac18f-f09d-4823-a99b-288c82f55aa4",
   "metadata": {},
   "source": [
    "Locate objects in the first frame"
   ]
  },
  {
   "cell_type": "markdown",
   "id": "32d297e7-c7b8-42e1-9a80-d1c535c04651",
   "metadata": {
    "tags": []
   },
   "source": [
    "Check out\n",
    "https://www.youtube.com/watch?v=8ktcGQ-XreQ"
   ]
  },
  {
   "cell_type": "markdown",
   "id": "0cfdb7f4-327c-48e1-8248-0f143f946aa0",
   "metadata": {},
   "source": [
    "Perhaps use YOLOv5:\n",
    "https://blog.paperspace.com/train-yolov5-custom-data/\n",
    "\n",
    "\n",
    "https://blog.roboflow.com/how-to-train-yolov5-on-a-custom-dataset/\n"
   ]
  },
  {
   "cell_type": "markdown",
   "id": "5ee809ad-a93a-4709-be9f-903e3a8e203d",
   "metadata": {},
   "source": [
    "# Path Planning"
   ]
  },
  {
   "cell_type": "markdown",
   "id": "8f712d7c-71ee-409f-adb3-0b9ec55b3239",
   "metadata": {},
   "source": [
    "## 1. Dijkstra Algorithm"
   ]
  },
  {
   "cell_type": "markdown",
   "id": "9b27e29a-10df-49ad-b5b1-d0d57207ccc2",
   "metadata": {},
   "source": [
    "I am still fine-tuning the computer vision code. For now, use this image as a reference and and these coordinates to begin working on the algorithm.\n",
    "\n",
    "Img height: 640\n",
    "Img width: 640"
   ]
  },
  {
   "cell_type": "code",
   "execution_count": 2,
   "id": "ee327adf-fc6a-4ee0-bb14-5f14c9fd407a",
   "metadata": {
    "tags": []
   },
   "outputs": [
    {
     "ename": "FileNotFoundError",
     "evalue": "[Errno 2] No such file or directory: 'images/sample_img.jpg'",
     "output_type": "error",
     "traceback": [
      "\u001b[1;31m---------------------------------------------------------------------------\u001b[0m",
      "\u001b[1;31mFileNotFoundError\u001b[0m                         Traceback (most recent call last)",
      "Cell \u001b[1;32mIn[2], line 15\u001b[0m\n\u001b[0;32m      9\u001b[0m \u001b[38;5;28;01mimport\u001b[39;00m \u001b[38;5;21;01mmatplotlib\u001b[39;00m\u001b[38;5;21;01m.\u001b[39;00m\u001b[38;5;21;01mpyplot\u001b[39;00m \u001b[38;5;28;01mas\u001b[39;00m \u001b[38;5;21;01mplt\u001b[39;00m\n\u001b[0;32m     14\u001b[0m path\u001b[38;5;241m=\u001b[39m\u001b[38;5;124m\"\u001b[39m\u001b[38;5;124mimages/sample_img.jpg\u001b[39m\u001b[38;5;124m\"\u001b[39m\n\u001b[1;32m---> 15\u001b[0m display(\u001b[43mImage\u001b[49m\u001b[38;5;241;43m.\u001b[39;49m\u001b[43mopen\u001b[49m\u001b[43m(\u001b[49m\u001b[43mpath\u001b[49m\u001b[43m)\u001b[49m)\n",
      "File \u001b[1;32m~\\AppData\\Local\\Programs\\Python\\Python311\\Lib\\site-packages\\PIL\\Image.py:3218\u001b[0m, in \u001b[0;36mopen\u001b[1;34m(fp, mode, formats)\u001b[0m\n\u001b[0;32m   3215\u001b[0m     filename \u001b[38;5;241m=\u001b[39m fp\n\u001b[0;32m   3217\u001b[0m \u001b[38;5;28;01mif\u001b[39;00m filename:\n\u001b[1;32m-> 3218\u001b[0m     fp \u001b[38;5;241m=\u001b[39m \u001b[43mbuiltins\u001b[49m\u001b[38;5;241;43m.\u001b[39;49m\u001b[43mopen\u001b[49m\u001b[43m(\u001b[49m\u001b[43mfilename\u001b[49m\u001b[43m,\u001b[49m\u001b[43m \u001b[49m\u001b[38;5;124;43m\"\u001b[39;49m\u001b[38;5;124;43mrb\u001b[39;49m\u001b[38;5;124;43m\"\u001b[39;49m\u001b[43m)\u001b[49m\n\u001b[0;32m   3219\u001b[0m     exclusive_fp \u001b[38;5;241m=\u001b[39m \u001b[38;5;28;01mTrue\u001b[39;00m\n\u001b[0;32m   3221\u001b[0m \u001b[38;5;28;01mtry\u001b[39;00m:\n",
      "\u001b[1;31mFileNotFoundError\u001b[0m: [Errno 2] No such file or directory: 'images/sample_img.jpg'"
     ]
    }
   ],
   "source": [
    "from PIL import Image\n",
    "\n",
    "\n",
    "\n",
    "from dijkstar import Graph, find_path\n",
    "from IPython.display import display\n",
    "\n",
    "import networkx as nx\n",
    "import matplotlib.pyplot as plt\n",
    "\n",
    "\n",
    "\n",
    "\n",
    "path=\"images/sample_img.jpg\"\n",
    "display(Image.open(path))"
   ]
  },
  {
   "cell_type": "markdown",
   "id": "f8e891ab-2869-409c-85e9-ad43ab5f4cdd",
   "metadata": {},
   "source": [
    "{\n",
    "    \"boxes\": [\n",
    "        {\n",
    "            \"label\": \"obstacle\",\n",
    "            \"x\": 129,\n",
    "            \"y\": 180.5,\n",
    "            \"width\": 118,\n",
    "            \"height\": 207.5\n",
    "        },\n",
    "        {\n",
    "            \"label\": \"obstacle\",\n",
    "            \"x\": 284.5,\n",
    "            \"y\": 517.5,\n",
    "            \"width\": 116.5,\n",
    "            \"height\": 203.5\n",
    "        },\n",
    "        {\n",
    "            \"label\": \"obstacle\",\n",
    "            \"x\": 412.5,\n",
    "            \"y\": 254,\n",
    "            \"width\": 91.5,\n",
    "            \"height\": 162\n",
    "        },\n",
    "        {\n",
    "            \"label\": \"goal\",\n",
    "            \"x\": 556,\n",
    "            \"y\": 203,\n",
    "            \"width\": 44,\n",
    "            \"height\": 78\n",
    "        },\n",
    "        {\n",
    "            \"label\": \"Thymio\",\n",
    "            \"x\": 151,\n",
    "            \"y\": 413,\n",
    "            \"width\": 125,\n",
    "            \"height\": 215.5\n",
    "        }\n",
    "    ],\n",
    "    \"height\": 640,\n",
    "    \"key\": \"arena (8).jpg\",\n",
    "    \"width\": 640\n",
    "}"
   ]
  },
  {
   "cell_type": "code",
   "execution_count": 3,
   "id": "b7bedf21-90ff-468b-9cb3-cef0988dab8a",
   "metadata": {
    "tags": []
   },
   "outputs": [
    {
     "ename": "NameError",
     "evalue": "name 'obstacle_box' is not defined",
     "output_type": "error",
     "traceback": [
      "\u001b[1;31m---------------------------------------------------------------------------\u001b[0m",
      "\u001b[1;31mNameError\u001b[0m                                 Traceback (most recent call last)",
      "Cell \u001b[1;32mIn[3], line 3\u001b[0m\n\u001b[0;32m      1\u001b[0m obstacle_coord \u001b[38;5;241m=\u001b[39m []\n\u001b[1;32m----> 3\u001b[0m \u001b[38;5;28;01mfor\u001b[39;00m box \u001b[38;5;129;01min\u001b[39;00m \u001b[43mobstacle_box\u001b[49m:\n\u001b[0;32m      4\u001b[0m     x1 \u001b[38;5;241m=\u001b[39m box[\u001b[38;5;241m0\u001b[39m]\n\u001b[0;32m      5\u001b[0m     y1 \u001b[38;5;241m=\u001b[39m box[\u001b[38;5;241m1\u001b[39m]\n",
      "\u001b[1;31mNameError\u001b[0m: name 'obstacle_box' is not defined"
     ]
    }
   ],
   "source": [
    "obstacle_coord = []\n",
    "\n",
    "for box in obstacle_box:\n",
    "    x1 = box[0]\n",
    "    y1 = box[1]\n",
    "    x2 = x1 + box[2]\n",
    "    y2 = y1 + box[3]\n",
    "\n",
    "    full_box = [x1, y1, x2, y2]\n",
    "    obstacle_coord.append(full_box)\n",
    "\n",
    "print(f\"Obstacle coordinates: {obstacle_coord}\")\n",
    "print(\"\")\n",
    "print(\"\")\n",
    "print(\"\")\n",
    "# additing the missing point coordinates\n",
    "\n",
    "obs_nbr=len(obstacle_coord)\n",
    "\n",
    "for x in range(obs_nbr):\n",
    "    obstacle_coord[x].insert(4,obstacle_coord[x][2])\n",
    "    obstacle_coord[x].insert(5,obstacle_coord[x][1])\n",
    "\n",
    "    obstacle_coord[x].insert(6,obstacle_coord[x][0])\n",
    "    obstacle_coord[x].insert(7,obstacle_coord[x][3])\n",
    "\n",
    "\n",
    "\n",
    "#re-organizing the coordinate top_left,top_right,lower_left,lower_right\n",
    "\n",
    "temp_coord=[0,0]\n",
    "\n",
    "for i in range(obs_nbr):\n",
    "    temp_coord[0]=obstacle_coord[i][2]\n",
    "    temp_coord[1]=obstacle_coord[i][3]\n",
    "    \n",
    "    obstacle_coord[i][2]=obstacle_coord[i][4]\n",
    "    obstacle_coord[i][3]=obstacle_coord[i][5]\n",
    "    obstacle_coord[i][4]=obstacle_coord[i][6]\n",
    "    obstacle_coord[i][5]=obstacle_coord[i][7]\n",
    "    obstacle_coord[i][6]=temp_coord[0]\n",
    "    obstacle_coord[i][7]=temp_coord[1]\n",
    "    \n",
    "\n",
    "print(obstacle_coord)\n",
    "\n",
    "\n"
   ]
  },
  {
   "cell_type": "code",
   "execution_count": 5,
   "id": "549e49e7-f0f0-4d75-b3b6-001e592fdb75",
   "metadata": {},
   "outputs": [
    {
     "data": {
      "image/png": "[encoded data removed]",
      "text/plain": [
       "<Figure size 640x480 with 1 Axes>"
      ]
     },
     "metadata": {},
     "output_type": "display_data"
    },
    {
     "name": "stdout",
     "output_type": "stream",
     "text": [
      "PathInfo(nodes=[0, 1, 4, 3, 2], edges=[2.0, 4.61, 5.83, 2.0], costs=[2.0, 4.61, 5.83, 2.0], total_cost=14.440000000000001)\n"
     ]
    }
   ],
   "source": [
    "obs_nbr = 3\n",
    "corner_nbr=obs_nbr*4\n",
    "node_coord_x=[]\n",
    "node_coord_y=[]\n",
    "max_coord_y=15\n",
    "import math\n",
    "obstacle_coord=[[2,10,4,10,2,8,4,8],[7,3,9,3,7,1,9,1],[10,7,12,7,10,5,12,5]]\n",
    "\n",
    "\n",
    "def distance(node1,node2):\n",
    "    distance=math.sqrt((node_coord_x[node2]-node_coord_x[node1])**2+(node_coord_y[node2]-node_coord_y[node1])**2)\n",
    "    distance=round(distance,2)\n",
    "    return distance\n",
    "def distance_goal_node(goal,node):\n",
    "    distance=math.sqrt((goal_coord_x[goal]-node_coord_x[node])**2+(goal_coord_y[goal]-node_coord_y[node])**2)\n",
    "    distance=round(distance,2)\n",
    "    return distance\n",
    "\n",
    "def distance_node_goal(node,goal):\n",
    "    distance=math.sqrt((goal_coord_x[goal]-node_coord_x[node])**2+(goal_coord_y[goal]-node_coord_y[node])**2)\n",
    "    distance=round(distance,2)\n",
    "    return distance\n",
    "\n",
    "\n",
    "\n",
    "\n",
    "for obstacle in range(obs_nbr):\n",
    "    for corner_high in range(2):\n",
    "        node_coord_y.append(max_coord_y-((max_coord_y-obstacle_coord[obstacle][(2*corner_high)+1])/2))\n",
    "        node_coord_x.append(obstacle_coord[obstacle][(2*corner_high)])\n",
    "    for corner_low in range(2):\n",
    "        node_coord_y.append(obstacle_coord[obstacle][(2*corner_low)+5]/2)\n",
    "        node_coord_x.append(obstacle_coord[obstacle][(2*corner_low)+4])\n",
    "\n",
    "def draw_graph(graph_data):\n",
    "    # Créer un objet Graph avec networkx\n",
    "    G = nx.Graph()\n",
    "\n",
    "    # Ajouter des nœuds et des liens au graphique\n",
    "    for node, edges in graph_data.items():\n",
    "        G.add_node(node)\n",
    "        for neighbor, weight in edges.items():\n",
    "            G.add_edge(node, neighbor, weight=weight)\n",
    "\n",
    "    # Dessiner le graphique\n",
    "    pos = nx.spring_layout(G)  # position des nœuds pour un aspect plus lisible\n",
    "    labels = nx.get_edge_attributes(G, 'weight')\n",
    "    nx.draw(G, pos, with_labels=True, node_size=700, node_color=\"skyblue\", font_size=8)\n",
    "    nx.draw_networkx_edge_labels(G, pos, edge_labels=labels)\n",
    "\n",
    "    # Afficher le graphique\n",
    "    plt.show()\n",
    "\n",
    "\n",
    "def connect_nodes(obs_nbr):    \n",
    "    graph = Graph ()\n",
    "    for nb_node in range(obs_nbr*4-1):\n",
    "        if nb_node % 2 == 0:\n",
    "            graph.add_edge(nb_node, nb_node + 1, distance(nb_node, nb_node + 1))\n",
    "            if nb_node > 3:\n",
    "                graph.add_edge(nb_node, nb_node -3, distance(nb_node, nb_node -3))\n",
    "        else:\n",
    "            graph.add_edge(nb_node, nb_node - 1, distance(nb_node, nb_node - 1))\n",
    "            if nb_node < (obs_nbr-1)*4:\n",
    "                graph.add_edge(nb_node, nb_node + 3, distance(nb_node, nb_node + 3))\n",
    "                if (nb_node-1) % 4 == 0:\n",
    "                    graph.add_edge(nb_node, nb_node + 5, distance(nb_node, nb_node + 5))\n",
    "                else:\n",
    "                    graph.add_edge(nb_node, nb_node + 1, distance(nb_node, nb_node + 1))\n",
    "                    \n",
    "    draw_graph(graph)\n",
    "    shortest_path = find_path(graph, 0, 2)\n",
    "    print(shortest_path)   \n",
    "\n",
    "\n",
    "# graph = Graph ()\n",
    "# graph.add_edge(0, 1, distance(0, 1))\n",
    "# graph.add_edge(1, 0, distance(1, 0))\n",
    "\n",
    "# graph.add_edge(2, 3, distance(2, 3))\n",
    "# graph.add_edge(3, 2, distance(3, 2))\n",
    "\n",
    "# graph.add_edge(1, 4, distance(1, 4))\n",
    "# graph.add_edge(4, 1, distance(4, 1))\n",
    "\n",
    "# graph.add_edge(3, 6, distance(3, 6))\n",
    "# graph.add_edge(6, 3, distance(6, 3))\n",
    "\n",
    "# graph.add_edge(1, 6, distance(1, 6))\n",
    "# graph.add_edge(6, 1, distance(6, 1))\n",
    "\n",
    "# graph.add_edge(3, 4, distance(3, 4))\n",
    "# graph.add_edge(4, 3, distance(4, 3))\n",
    "\n",
    "# graph.add_edge(4, 5, distance(4, 5))\n",
    "# graph.add_edge(5, 4, distance(5, 4))\n",
    "\n",
    "# graph.add_edge(6, 7, distance(6, 7))\n",
    "# graph.add_edge(7, 6, distance(7, 6))\n",
    "\n",
    "# graph.add_edge(5, 8, distance(5, 8))\n",
    "# graph.add_edge(8, 5, distance(8, 5))\n",
    "\n",
    "# graph.add_edge(7, 10, distance(7, 10))\n",
    "# graph.add_edge(10, 7, distance(10, 7))\n",
    "\n",
    "# graph.add_edge(5, 10, distance(5, 10))\n",
    "# graph.add_edge(10, 5, distance(10, 5))\n",
    "\n",
    "# graph.add_edge(7, 8, distance(7, 8))\n",
    "# graph.add_edge(8, 7, distance(8, 7))\n",
    "\n",
    "# graph.add_edge(8, 9, distance(8, 9))\n",
    "# graph.add_edge(9, 8, distance(9, 8))\n",
    "\n",
    "# graph.add_edge(10, 11, distance(10, 11))\n",
    "# graph.add_edge(11, 10, distance(11, 10))\n",
    "# draw_graph(graph)\n",
    "# shortest_path = find_path(graph, 0, 2)\n",
    "# print(shortest_path)\n",
    "\n",
    "connect_nodes(3)\n"
   ]
  },
  {
   "cell_type": "code",
   "execution_count": 13,
   "id": "95bec5dd-2d80-44f7-9d4f-3e8051c33bf8",
   "metadata": {},
   "outputs": [
    {
     "ename": "NameError",
     "evalue": "name 'Graph' is not defined",
     "output_type": "error",
     "traceback": [
      "\u001b[1;31m---------------------------------------------------------------------------\u001b[0m",
      "\u001b[1;31mNameError\u001b[0m                                 Traceback (most recent call last)",
      "Cell \u001b[1;32mIn[13], line 7\u001b[0m\n\u001b[0;32m      4\u001b[0m goal\u001b[38;5;241m=\u001b[39m\u001b[38;5;241m101\u001b[39m\n\u001b[0;32m      5\u001b[0m offset\u001b[38;5;241m=\u001b[39mobs_nbr\u001b[38;5;241m*\u001b[39m\u001b[38;5;241m4\u001b[39m\n\u001b[1;32m----> 7\u001b[0m \u001b[43mconnect_nodes\u001b[49m\u001b[43m(\u001b[49m\u001b[38;5;241;43m3\u001b[39;49m\u001b[43m)\u001b[49m\n\u001b[0;32m     11\u001b[0m \u001b[38;5;28;01mdef\u001b[39;00m \u001b[38;5;21mlocalisation\u001b[39m(\u001b[38;5;28mobject\u001b[39m):\n\u001b[0;32m     12\u001b[0m     column\u001b[38;5;241m=\u001b[39m\u001b[38;5;241m0\u001b[39m\n",
      "Cell \u001b[1;32mIn[11], line 56\u001b[0m, in \u001b[0;36mconnect_nodes\u001b[1;34m(obs_nbr)\u001b[0m\n\u001b[0;32m     55\u001b[0m \u001b[38;5;28;01mdef\u001b[39;00m \u001b[38;5;21mconnect_nodes\u001b[39m(obs_nbr):    \n\u001b[1;32m---> 56\u001b[0m     graph \u001b[38;5;241m=\u001b[39m \u001b[43mGraph\u001b[49m ()\n\u001b[0;32m     57\u001b[0m     \u001b[38;5;28;01mfor\u001b[39;00m nb_node \u001b[38;5;129;01min\u001b[39;00m \u001b[38;5;28mrange\u001b[39m(obs_nbr\u001b[38;5;241m*\u001b[39m\u001b[38;5;241m4\u001b[39m\u001b[38;5;241m-\u001b[39m\u001b[38;5;241m1\u001b[39m):\n\u001b[0;32m     58\u001b[0m         \u001b[38;5;28;01mif\u001b[39;00m nb_node \u001b[38;5;241m%\u001b[39m \u001b[38;5;241m2\u001b[39m \u001b[38;5;241m==\u001b[39m \u001b[38;5;241m0\u001b[39m:\n",
      "\u001b[1;31mNameError\u001b[0m: name 'Graph' is not defined"
     ]
    }
   ],
   "source": [
    "goal_coord_x=[1,14]   \n",
    "goal_coord_y=[9,1]\n",
    "thymio=100\n",
    "goal=101\n",
    "offset=obs_nbr*4\n",
    "\n",
    "\n",
    "\n",
    "def localisation(object):\n",
    "    column=0\n",
    "    break_flag=0\n",
    "    for obstacle in range(obs_nbr):\n",
    "        for corner in range(2):\n",
    "            \n",
    "            if goal_coord_x[object]<obstacle_coord[obstacle][(2*corner)]:\n",
    "                print(\"break\")\n",
    "                print(obstacle,corner)\n",
    "                break_flag=1\n",
    "                break\n",
    "            column+=1\n",
    "        if break_flag==1:\n",
    "            break\n",
    "            \n",
    "    print(column)\n",
    "    if column % 2 == 0:\n",
    "    \n",
    "        if column < 2 * obs_nbr:\n",
    "            graph.add_edge(object + offset, 2 * column, distance_goal_node(object, 2 * column))\n",
    "            graph.add_edge(2 * column, object + offset, distance_node_goal(2 * column, object))\n",
    "\n",
    "            graph.add_edge(object + offset, 2 * column + 2, distance_goal_node(object, 2 * column + 2))\n",
    "            graph.add_edge(2 * column + 2, object + offset, distance_node_goal(2 * column + 2, object))\n",
    "    \n",
    "        if column > 0:\n",
    "            graph.add_edge(object + offset, 2 * column - 1, distance_goal_node(object, 2 * column - 1))\n",
    "            graph.add_edge(2 * column - 1, object + offset, distance_node_goal(2 * column - 1, object))\n",
    "\n",
    "            graph.add_edge(object + offset, 2 * column - 3, distance_goal_node(object, 2 * column - 3))\n",
    "            graph.add_edge(2 * column - 3, object + offset, distance_node_goal(2 * column - 3, object))\n",
    "  \n",
    "    else:\n",
    "        if goal_coord_y[object] > obstacle_coord[math.floor((column - 1) / 2)][1]:\n",
    "            graph.add_edge(object + offset, (2 * column) - 1, distance_goal_node(object, (2 * column) - 1))\n",
    "            graph.add_edge((2 * column) - 1, object + offset, distance_node_goal((2 * column) - 1, object))\n",
    "\n",
    "            graph.add_edge(object + offset, (2 * column) - 2, distance_goal_node(object, (2 * column) - 2))\n",
    "            graph.add_edge((2 * column) - 2, object + offset, distance_node_goal((2 * column) - 2, object))\n",
    "        else:\n",
    "            graph.add_edge(object + offset, (2 * column), distance_goal_node(object, (2 * column)))\n",
    "            graph.add_edge((2 * column), object + offset, distance_node_goal((2 * column), object))\n",
    "\n",
    "            graph.add_edge(object + offset, (2 * column) + 1, distance_goal_node(object, (2 * column) + 1))\n",
    "            graph.add_edge((2 * column) + 1, object + offset, distance_node_goal((2 * column) + 1, object))\n",
    "\n",
    "\n",
    "localisation(0)\n",
    "localisation(1)\n",
    "            \n",
    "\n",
    "\n",
    "\n",
    "draw_graph(graph)\n",
    "shortest_path = find_path(graph, 12, 13)\n",
    "print(shortest_path)\n",
    "            \n"
   ]
  },
  {
   "cell_type": "code",
   "execution_count": 1,
   "id": "1c93d1a4-86a4-4d6a-b829-fa0b676d0cf0",
   "metadata": {},
   "outputs": [
    {
     "name": "stdout",
     "output_type": "stream",
     "text": [
      "\f",
      "\n"
     ]
    }
   ],
   "source": [
    "\n",
    "clear()\n"
   ]
  }
 ],
 "metadata": {
  "kernelspec": {
   "display_name": "Python 3 (ipykernel)",
   "language": "python",
   "name": "python3"
  },
  "language_info": {
   "codemirror_mode": {
    "name": "ipython",
    "version": 3
   },
   "file_extension": ".py",
   "mimetype": "text/x-python",
   "name": "python",
   "nbconvert_exporter": "python",
   "pygments_lexer": "ipython3",
   "version": "3.11.5"
  },
  "toc-autonumbering": false,
  "toc-showcode": false,
  "toc-showmarkdowntxt": true,
  "toc-showtags": false
 },
 "nbformat": 4,
 "nbformat_minor": 5
}
